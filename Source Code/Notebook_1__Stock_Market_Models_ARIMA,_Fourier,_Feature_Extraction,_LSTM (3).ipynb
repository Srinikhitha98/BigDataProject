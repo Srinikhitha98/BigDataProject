{
  "nbformat": 4,
  "nbformat_minor": 0,
  "metadata": {
    "colab": {
      "name": "Notebook_1__Stock_Market_Models_ARIMA,_Fourier,_Feature_Extraction,_LSTM.ipynb",
      "provenance": [],
      "collapsed_sections": [],
      "toc_visible": true
    },
    "kernelspec": {
      "name": "python3",
      "display_name": "Python 3"
    },
    "accelerator": "GPU"
  },
  "cells": [
    {
      "cell_type": "markdown",
      "metadata": {
        "id": "_jMBTKtPWTP4"
      },
      "source": [
        "**TIME SERIES ANALYSIS FOR STOCK MARKET DATA SPECIFICALLY AMAZON** \n",
        "\n",
        "\n",
        "\n"
      ]
    },
    {
      "cell_type": "code",
      "source": [
        "pip install mxnet"
      ],
      "metadata": {
        "colab": {
          "base_uri": "https://localhost:8080/"
        },
        "id": "0WP8a_zUcKiZ",
        "outputId": "e6a1cbd8-cd32-4907-c81b-c40eea106f81"
      },
      "execution_count": 1,
      "outputs": [
        {
          "output_type": "stream",
          "name": "stdout",
          "text": [
            "Collecting mxnet\n",
            "  Downloading mxnet-1.9.0-py3-none-manylinux2014_x86_64.whl (47.3 MB)\n",
            "\u001b[K     |████████████████████████████████| 47.3 MB 105 kB/s \n",
            "\u001b[?25hRequirement already satisfied: requests<3,>=2.20.0 in /usr/local/lib/python3.7/dist-packages (from mxnet) (2.23.0)\n",
            "Requirement already satisfied: numpy<2.0.0,>1.16.0 in /usr/local/lib/python3.7/dist-packages (from mxnet) (1.21.6)\n",
            "Collecting graphviz<0.9.0,>=0.8.1\n",
            "  Downloading graphviz-0.8.4-py2.py3-none-any.whl (16 kB)\n",
            "Requirement already satisfied: chardet<4,>=3.0.2 in /usr/local/lib/python3.7/dist-packages (from requests<3,>=2.20.0->mxnet) (3.0.4)\n",
            "Requirement already satisfied: urllib3!=1.25.0,!=1.25.1,<1.26,>=1.21.1 in /usr/local/lib/python3.7/dist-packages (from requests<3,>=2.20.0->mxnet) (1.24.3)\n",
            "Requirement already satisfied: idna<3,>=2.5 in /usr/local/lib/python3.7/dist-packages (from requests<3,>=2.20.0->mxnet) (2.10)\n",
            "Requirement already satisfied: certifi>=2017.4.17 in /usr/local/lib/python3.7/dist-packages (from requests<3,>=2.20.0->mxnet) (2021.10.8)\n",
            "Installing collected packages: graphviz, mxnet\n",
            "  Attempting uninstall: graphviz\n",
            "    Found existing installation: graphviz 0.10.1\n",
            "    Uninstalling graphviz-0.10.1:\n",
            "      Successfully uninstalled graphviz-0.10.1\n",
            "Successfully installed graphviz-0.8.4 mxnet-1.9.0\n"
          ]
        }
      ]
    },
    {
      "cell_type": "code",
      "source": [
        "!pip install yfinance"
      ],
      "metadata": {
        "colab": {
          "base_uri": "https://localhost:8080/"
        },
        "id": "vZVxFby7l0vu",
        "outputId": "b1d77b12-f617-430a-f42f-4afb6841cc15"
      },
      "execution_count": 2,
      "outputs": [
        {
          "output_type": "stream",
          "name": "stdout",
          "text": [
            "Collecting yfinance\n",
            "  Downloading yfinance-0.1.70-py2.py3-none-any.whl (26 kB)\n",
            "Requirement already satisfied: multitasking>=0.0.7 in /usr/local/lib/python3.7/dist-packages (from yfinance) (0.0.10)\n",
            "Collecting lxml>=4.5.1\n",
            "  Downloading lxml-4.8.0-cp37-cp37m-manylinux_2_17_x86_64.manylinux2014_x86_64.manylinux_2_24_x86_64.whl (6.4 MB)\n",
            "\u001b[K     |████████████████████████████████| 6.4 MB 6.1 MB/s \n",
            "\u001b[?25hRequirement already satisfied: pandas>=0.24.0 in /usr/local/lib/python3.7/dist-packages (from yfinance) (1.3.5)\n",
            "Collecting requests>=2.26\n",
            "  Downloading requests-2.27.1-py2.py3-none-any.whl (63 kB)\n",
            "\u001b[K     |████████████████████████████████| 63 kB 1.6 MB/s \n",
            "\u001b[?25hRequirement already satisfied: numpy>=1.15 in /usr/local/lib/python3.7/dist-packages (from yfinance) (1.21.6)\n",
            "Requirement already satisfied: pytz>=2017.3 in /usr/local/lib/python3.7/dist-packages (from pandas>=0.24.0->yfinance) (2022.1)\n",
            "Requirement already satisfied: python-dateutil>=2.7.3 in /usr/local/lib/python3.7/dist-packages (from pandas>=0.24.0->yfinance) (2.8.2)\n",
            "Requirement already satisfied: six>=1.5 in /usr/local/lib/python3.7/dist-packages (from python-dateutil>=2.7.3->pandas>=0.24.0->yfinance) (1.15.0)\n",
            "Requirement already satisfied: urllib3<1.27,>=1.21.1 in /usr/local/lib/python3.7/dist-packages (from requests>=2.26->yfinance) (1.24.3)\n",
            "Requirement already satisfied: idna<4,>=2.5 in /usr/local/lib/python3.7/dist-packages (from requests>=2.26->yfinance) (2.10)\n",
            "Requirement already satisfied: charset-normalizer~=2.0.0 in /usr/local/lib/python3.7/dist-packages (from requests>=2.26->yfinance) (2.0.12)\n",
            "Requirement already satisfied: certifi>=2017.4.17 in /usr/local/lib/python3.7/dist-packages (from requests>=2.26->yfinance) (2021.10.8)\n",
            "Installing collected packages: requests, lxml, yfinance\n",
            "  Attempting uninstall: requests\n",
            "    Found existing installation: requests 2.23.0\n",
            "    Uninstalling requests-2.23.0:\n",
            "      Successfully uninstalled requests-2.23.0\n",
            "  Attempting uninstall: lxml\n",
            "    Found existing installation: lxml 4.2.6\n",
            "    Uninstalling lxml-4.2.6:\n",
            "      Successfully uninstalled lxml-4.2.6\n",
            "\u001b[31mERROR: pip's dependency resolver does not currently take into account all the packages that are installed. This behaviour is the source of the following dependency conflicts.\n",
            "google-colab 1.0.0 requires requests~=2.23.0, but you have requests 2.27.1 which is incompatible.\n",
            "datascience 0.10.6 requires folium==0.2.1, but you have folium 0.8.3 which is incompatible.\u001b[0m\n",
            "Successfully installed lxml-4.8.0 requests-2.27.1 yfinance-0.1.70\n"
          ]
        }
      ]
    },
    {
      "cell_type": "markdown",
      "metadata": {
        "id": "Encu5lTtt215"
      },
      "source": [
        "**install mxnet a python package for time series data great for visualization**"
      ]
    },
    {
      "cell_type": "code",
      "metadata": {
        "id": "Z-n42rXkBY4x"
      },
      "source": [
        "import time\n",
        "import numpy as np\n",
        "import pandas as pd\n",
        "from mxnet import nd, autograd, gluon\n",
        "from mxnet.gluon import nn, rnn\n",
        "import mxnet as mx\n",
        "import datetime\n",
        "import seaborn as sns\n",
        "\n",
        "import matplotlib.pyplot as plt\n",
        "%matplotlib inline\n",
        "from sklearn.decomposition import PCA\n",
        "\n",
        "import math\n",
        "\n",
        "from sklearn.preprocessing import MinMaxScaler\n",
        "from sklearn.metrics import mean_squared_error\n",
        "from sklearn.preprocessing import StandardScaler\n",
        "\n",
        "import xgboost as xgb\n",
        "from sklearn.metrics import accuracy_score"
      ],
      "execution_count": 3,
      "outputs": []
    },
    {
      "cell_type": "code",
      "metadata": {
        "id": "acikqo6lVWgM"
      },
      "source": [
        "context = mx.cpu(); model_ctx=mx.cpu()\n",
        "mx.random.seed(1719)"
      ],
      "execution_count": 4,
      "outputs": []
    },
    {
      "cell_type": "code",
      "source": [
        "import yfinance as yf\n",
        "from fbprophet import Prophet\n",
        "   \n",
        "    # forecast the given ticker (stock) period days into the future (from today)\n",
        "\n",
        "    # inputs\n",
        "    # ------\n",
        "    # > ticker\n",
        "    #     >> ticker of stock to forecast\n",
        "    # > periods\n",
        "    #     >> number of days into the future to forecast (from today's date)\n",
        "    # > hist\n",
        "    #     >> amount of historical data to consider\n",
        "    #         > default: max\n",
        "    #         > options: 1d, 5d, 1mo, 3mo, 6mo, 1y, 2y, 5y, 10y, ytd, max\n",
        "   \n",
        "    # pull historical data from yahoo finance\n",
        "stock_data = yf.Ticker(\"AMZN\")\n",
        "\n",
        "hist_data = stock_data.history(\"max\", auto_adjust=True)\n",
        "\n",
        "    # create new dataframe to hold dates (ds) & adjusted closing prices (y)\n",
        "df = pd.DataFrame()\n",
        "\n",
        "df['ds'] = hist_data.index.values\n",
        "df['y'] = hist_data['Close'].values\n",
        "\n",
        "    # create a Prophet model from that data\n",
        "m = Prophet(daily_seasonality=False)\n",
        "m.fit(df)\n",
        "\n",
        "future = m.make_future_dataframe(100, freq='D')\n",
        "forecast = m.predict(future)\n",
        "\n",
        "m.plot(forecast)\n",
        "\n",
        "    "
      ],
      "metadata": {
        "colab": {
          "base_uri": "https://localhost:8080/",
          "height": 865
        },
        "id": "uCAu14r7klcy",
        "outputId": "3ea9e53e-b89f-45b9-81cc-834b7d9ccc5e"
      },
      "execution_count": 5,
      "outputs": [
        {
          "output_type": "execute_result",
          "data": {
            "text/plain": [
              "<Figure size 720x432 with 1 Axes>"
            ],
            "image/png": "[encoded data removed]"
          },
          "metadata": {},
          "execution_count": 5
        },
        {
          "output_type": "display_data",
          "data": {
            "text/plain": [
              "<Figure size 720x432 with 1 Axes>"
            ],
            "image/png": "[encoded data removed]"
          },
          "metadata": {}
        }
      ]
    },
    {
      "cell_type": "code",
      "source": [
        "df.head()"
      ],
      "metadata": {
        "colab": {
          "base_uri": "https://localhost:8080/",
          "height": 206
        },
        "id": "uXzxTuRD0ngF",
        "outputId": "2d7529ad-6d15-478b-d071-eab9af9c71f6"
      },
      "execution_count": 6,
      "outputs": [
        {
          "output_type": "execute_result",
          "data": {
            "text/plain": [
              "          ds         y\n",
              "0 1997-05-15  1.958333\n",
              "1 1997-05-16  1.729167\n",
              "2 1997-05-19  1.708333\n",
              "3 1997-05-20  1.635417\n",
              "4 1997-05-21  1.427083"
            ],
            "text/html": [
              "\n",
              "  <div id=\"df-8f152b8a-11ea-46b0-851d-71ef8457ceef\">\n",
              "    <div class=\"colab-df-container\">\n",
              "      <div>\n",
              "<style scoped>\n",
              "    .dataframe tbody tr th:only-of-type {\n",
              "        vertical-align: middle;\n",
              "    }\n",
              "\n",
              "    .dataframe tbody tr th {\n",
              "        vertical-align: top;\n",
              "    }\n",
              "\n",
              "    .dataframe thead th {\n",
              "        text-align: right;\n",
              "    }\n",
              "</style>\n",
              "<table border=\"1\" class=\"dataframe\">\n",
              "  <thead>\n",
              "    <tr style=\"text-align: right;\">\n",
              "      <th></th>\n",
              "      <th>ds</th>\n",
              "      <th>y</th>\n",
              "    </tr>\n",
              "  </thead>\n",
              "  <tbody>\n",
              "    <tr>\n",
              "      <th>0</th>\n",
              "      <td>1997-05-15</td>\n",
              "      <td>1.958333</td>\n",
              "    </tr>\n",
              "    <tr>\n",
              "      <th>1</th>\n",
              "      <td>1997-05-16</td>\n",
              "      <td>1.729167</td>\n",
              "    </tr>\n",
              "    <tr>\n",
              "      <th>2</th>\n",
              "      <td>1997-05-19</td>\n",
              "      <td>1.708333</td>\n",
              "    </tr>\n",
              "    <tr>\n",
              "      <th>3</th>\n",
              "      <td>1997-05-20</td>\n",
              "      <td>1.635417</td>\n",
              "    </tr>\n",
              "    <tr>\n",
              "      <th>4</th>\n",
              "      <td>1997-05-21</td>\n",
              "      <td>1.427083</td>\n",
              "    </tr>\n",
              "  </tbody>\n",
              "</table>\n",
              "</div>\n",
              "      <button class=\"colab-df-convert\" onclick=\"convertToInteractive('df-8f152b8a-11ea-46b0-851d-71ef8457ceef')\"\n",
              "              title=\"Convert this dataframe to an interactive table.\"\n",
              "              style=\"display:none;\">\n",
              "        \n",
              "  <svg xmlns=\"http://www.w3.org/2000/svg\" height=\"24px\"viewBox=\"0 0 24 24\"\n",
              "       width=\"24px\">\n",
              "    <path d=\"M0 0h24v24H0V0z\" fill=\"none\"/>\n",
              "    <path d=\"M18.56 5.44l.94 2.06.94-2.06 2.06-.94-2.06-.94-.94-2.06-.94 2.06-2.06.94zm-11 1L8.5 8.5l.94-2.06 2.06-.94-2.06-.94L8.5 2.5l-.94 2.06-2.06.94zm10 10l.94 2.06.94-2.06 2.06-.94-2.06-.94-.94-2.06-.94 2.06-2.06.94z\"/><path d=\"M17.41 7.96l-1.37-1.37c-.4-.4-.92-.59-1.43-.59-.52 0-1.04.2-1.43.59L10.3 9.45l-7.72 7.72c-.78.78-.78 2.05 0 2.83L4 21.41c.39.39.9.59 1.41.59.51 0 1.02-.2 1.41-.59l7.78-7.78 2.81-2.81c.8-.78.8-2.07 0-2.86zM5.41 20L4 18.59l7.72-7.72 1.47 1.35L5.41 20z\"/>\n",
              "  </svg>\n",
              "      </button>\n",
              "      \n",
              "  <style>\n",
              "    .colab-df-container {\n",
              "      display:flex;\n",
              "      flex-wrap:wrap;\n",
              "      gap: 12px;\n",
              "    }\n",
              "\n",
              "    .colab-df-convert {\n",
              "      background-color: #E8F0FE;\n",
              "      border: none;\n",
              "      border-radius: 50%;\n",
              "      cursor: pointer;\n",
              "      display: none;\n",
              "      fill: #1967D2;\n",
              "      height: 32px;\n",
              "      padding: 0 0 0 0;\n",
              "      width: 32px;\n",
              "    }\n",
              "\n",
              "    .colab-df-convert:hover {\n",
              "      background-color: #E2EBFA;\n",
              "      box-shadow: 0px 1px 2px rgba(60, 64, 67, 0.3), 0px 1px 3px 1px rgba(60, 64, 67, 0.15);\n",
              "      fill: #174EA6;\n",
              "    }\n",
              "\n",
              "    [theme=dark] .colab-df-convert {\n",
              "      background-color: #3B4455;\n",
              "      fill: #D2E3FC;\n",
              "    }\n",
              "\n",
              "    [theme=dark] .colab-df-convert:hover {\n",
              "      background-color: #434B5C;\n",
              "      box-shadow: 0px 1px 3px 1px rgba(0, 0, 0, 0.15);\n",
              "      filter: drop-shadow(0px 1px 2px rgba(0, 0, 0, 0.3));\n",
              "      fill: #FFFFFF;\n",
              "    }\n",
              "  </style>\n",
              "\n",
              "      <script>\n",
              "        const buttonEl =\n",
              "          document.querySelector('#df-8f152b8a-11ea-46b0-851d-71ef8457ceef button.colab-df-convert');\n",
              "        buttonEl.style.display =\n",
              "          google.colab.kernel.accessAllowed ? 'block' : 'none';\n",
              "\n",
              "        async function convertToInteractive(key) {\n",
              "          const element = document.querySelector('#df-8f152b8a-11ea-46b0-851d-71ef8457ceef');\n",
              "          const dataTable =\n",
              "            await google.colab.kernel.invokeFunction('convertToInteractive',\n",
              "                                                     [key], {});\n",
              "          if (!dataTable) return;\n",
              "\n",
              "          const docLinkHtml = 'Like what you see? Visit the ' +\n",
              "            '<a target=\"_blank\" href=https://colab.research.google.com/notebooks/data_table.ipynb>data table notebook</a>'\n",
              "            + ' to learn more about interactive tables.';\n",
              "          element.innerHTML = '';\n",
              "          dataTable['output_type'] = 'display_data';\n",
              "          await google.colab.output.renderOutput(dataTable, element);\n",
              "          const docLink = document.createElement('div');\n",
              "          docLink.innerHTML = docLinkHtml;\n",
              "          element.appendChild(docLink);\n",
              "        }\n",
              "      </script>\n",
              "    </div>\n",
              "  </div>\n",
              "  "
            ]
          },
          "metadata": {},
          "execution_count": 6
        }
      ]
    },
    {
      "cell_type": "code",
      "metadata": {
        "id": "KuwLSx1BVjK7"
      },
      "source": [
        "def parser(x):\n",
        "    return datetime.datetime.strptime(x,'%m/%d/%Y')"
      ],
      "execution_count": 7,
      "outputs": []
    },
    {
      "cell_type": "markdown",
      "metadata": {
        "id": "oGloNVdKu4ZQ"
      },
      "source": [
        "**Always sort time and format it properily for time series data. Here sorted out it month-date-year format.** "
      ]
    },
    {
      "cell_type": "code",
      "metadata": {
        "id": "8pMM2w-cHsv3",
        "outputId": "0e88e453-63d9-4c46-e787-7037027c67a4",
        "colab": {
          "base_uri": "https://localhost:8080/",
          "height": 143
        }
      },
      "source": [
        "hist_data.reset_index(inplace=True)\n",
        "hist_data.head(3)"
      ],
      "execution_count": 8,
      "outputs": [
        {
          "output_type": "execute_result",
          "data": {
            "text/plain": [
              "        Date      Open      High       Low     Close    Volume  Dividends  \\\n",
              "0 1997-05-15  2.437500  2.500000  1.927083  1.958333  72156000          0   \n",
              "1 1997-05-16  1.968750  1.979167  1.708333  1.729167  14700000          0   \n",
              "2 1997-05-19  1.760417  1.770833  1.625000  1.708333   6106800          0   \n",
              "\n",
              "   Stock Splits  \n",
              "0           0.0  \n",
              "1           0.0  \n",
              "2           0.0  "
            ],
            "text/html": [
              "\n",
              "  <div id=\"df-48e1c5d5-715a-4538-ba95-28bef3744d4f\">\n",
              "    <div class=\"colab-df-container\">\n",
              "      <div>\n",
              "<style scoped>\n",
              "    .dataframe tbody tr th:only-of-type {\n",
              "        vertical-align: middle;\n",
              "    }\n",
              "\n",
              "    .dataframe tbody tr th {\n",
              "        vertical-align: top;\n",
              "    }\n",
              "\n",
              "    .dataframe thead th {\n",
              "        text-align: right;\n",
              "    }\n",
              "</style>\n",
              "<table border=\"1\" class=\"dataframe\">\n",
              "  <thead>\n",
              "    <tr style=\"text-align: right;\">\n",
              "      <th></th>\n",
              "      <th>Date</th>\n",
              "      <th>Open</th>\n",
              "      <th>High</th>\n",
              "      <th>Low</th>\n",
              "      <th>Close</th>\n",
              "      <th>Volume</th>\n",
              "      <th>Dividends</th>\n",
              "      <th>Stock Splits</th>\n",
              "    </tr>\n",
              "  </thead>\n",
              "  <tbody>\n",
              "    <tr>\n",
              "      <th>0</th>\n",
              "      <td>1997-05-15</td>\n",
              "      <td>2.437500</td>\n",
              "      <td>2.500000</td>\n",
              "      <td>1.927083</td>\n",
              "      <td>1.958333</td>\n",
              "      <td>72156000</td>\n",
              "      <td>0</td>\n",
              "      <td>0.0</td>\n",
              "    </tr>\n",
              "    <tr>\n",
              "      <th>1</th>\n",
              "      <td>1997-05-16</td>\n",
              "      <td>1.968750</td>\n",
              "      <td>1.979167</td>\n",
              "      <td>1.708333</td>\n",
              "      <td>1.729167</td>\n",
              "      <td>14700000</td>\n",
              "      <td>0</td>\n",
              "      <td>0.0</td>\n",
              "    </tr>\n",
              "    <tr>\n",
              "      <th>2</th>\n",
              "      <td>1997-05-19</td>\n",
              "      <td>1.760417</td>\n",
              "      <td>1.770833</td>\n",
              "      <td>1.625000</td>\n",
              "      <td>1.708333</td>\n",
              "      <td>6106800</td>\n",
              "      <td>0</td>\n",
              "      <td>0.0</td>\n",
              "    </tr>\n",
              "  </tbody>\n",
              "</table>\n",
              "</div>\n",
              "      <button class=\"colab-df-convert\" onclick=\"convertToInteractive('df-48e1c5d5-715a-4538-ba95-28bef3744d4f')\"\n",
              "              title=\"Convert this dataframe to an interactive table.\"\n",
              "              style=\"display:none;\">\n",
              "        \n",
              "  <svg xmlns=\"http://www.w3.org/2000/svg\" height=\"24px\"viewBox=\"0 0 24 24\"\n",
              "       width=\"24px\">\n",
              "    <path d=\"M0 0h24v24H0V0z\" fill=\"none\"/>\n",
              "    <path d=\"M18.56 5.44l.94 2.06.94-2.06 2.06-.94-2.06-.94-.94-2.06-.94 2.06-2.06.94zm-11 1L8.5 8.5l.94-2.06 2.06-.94-2.06-.94L8.5 2.5l-.94 2.06-2.06.94zm10 10l.94 2.06.94-2.06 2.06-.94-2.06-.94-.94-2.06-.94 2.06-2.06.94z\"/><path d=\"M17.41 7.96l-1.37-1.37c-.4-.4-.92-.59-1.43-.59-.52 0-1.04.2-1.43.59L10.3 9.45l-7.72 7.72c-.78.78-.78 2.05 0 2.83L4 21.41c.39.39.9.59 1.41.59.51 0 1.02-.2 1.41-.59l7.78-7.78 2.81-2.81c.8-.78.8-2.07 0-2.86zM5.41 20L4 18.59l7.72-7.72 1.47 1.35L5.41 20z\"/>\n",
              "  </svg>\n",
              "      </button>\n",
              "      \n",
              "  <style>\n",
              "    .colab-df-container {\n",
              "      display:flex;\n",
              "      flex-wrap:wrap;\n",
              "      gap: 12px;\n",
              "    }\n",
              "\n",
              "    .colab-df-convert {\n",
              "      background-color: #E8F0FE;\n",
              "      border: none;\n",
              "      border-radius: 50%;\n",
              "      cursor: pointer;\n",
              "      display: none;\n",
              "      fill: #1967D2;\n",
              "      height: 32px;\n",
              "      padding: 0 0 0 0;\n",
              "      width: 32px;\n",
              "    }\n",
              "\n",
              "    .colab-df-convert:hover {\n",
              "      background-color: #E2EBFA;\n",
              "      box-shadow: 0px 1px 2px rgba(60, 64, 67, 0.3), 0px 1px 3px 1px rgba(60, 64, 67, 0.15);\n",
              "      fill: #174EA6;\n",
              "    }\n",
              "\n",
              "    [theme=dark] .colab-df-convert {\n",
              "      background-color: #3B4455;\n",
              "      fill: #D2E3FC;\n",
              "    }\n",
              "\n",
              "    [theme=dark] .colab-df-convert:hover {\n",
              "      background-color: #434B5C;\n",
              "      box-shadow: 0px 1px 3px 1px rgba(0, 0, 0, 0.15);\n",
              "      filter: drop-shadow(0px 1px 2px rgba(0, 0, 0, 0.3));\n",
              "      fill: #FFFFFF;\n",
              "    }\n",
              "  </style>\n",
              "\n",
              "      <script>\n",
              "        const buttonEl =\n",
              "          document.querySelector('#df-48e1c5d5-715a-4538-ba95-28bef3744d4f button.colab-df-convert');\n",
              "        buttonEl.style.display =\n",
              "          google.colab.kernel.accessAllowed ? 'block' : 'none';\n",
              "\n",
              "        async function convertToInteractive(key) {\n",
              "          const element = document.querySelector('#df-48e1c5d5-715a-4538-ba95-28bef3744d4f');\n",
              "          const dataTable =\n",
              "            await google.colab.kernel.invokeFunction('convertToInteractive',\n",
              "                                                     [key], {});\n",
              "          if (!dataTable) return;\n",
              "\n",
              "          const docLinkHtml = 'Like what you see? Visit the ' +\n",
              "            '<a target=\"_blank\" href=https://colab.research.google.com/notebooks/data_table.ipynb>data table notebook</a>'\n",
              "            + ' to learn more about interactive tables.';\n",
              "          element.innerHTML = '';\n",
              "          dataTable['output_type'] = 'display_data';\n",
              "          await google.colab.output.renderOutput(dataTable, element);\n",
              "          const docLink = document.createElement('div');\n",
              "          docLink.innerHTML = docLinkHtml;\n",
              "          element.appendChild(docLink);\n",
              "        }\n",
              "      </script>\n",
              "    </div>\n",
              "  </div>\n",
              "  "
            ]
          },
          "metadata": {},
          "execution_count": 8
        }
      ]
    },
    {
      "cell_type": "code",
      "metadata": {
        "id": "6a3PaysYHx2i",
        "outputId": "03be76a6-45c7-468e-82a0-d1faecb7b4cf",
        "colab": {
          "base_uri": "https://localhost:8080/"
        }
      },
      "source": [
        "print('There are {} number of days in the dataset.'.format(df.shape[0]))"
      ],
      "execution_count": 9,
      "outputs": [
        {
          "output_type": "stream",
          "name": "stdout",
          "text": [
            "There are 6282 number of days in the dataset.\n"
          ]
        }
      ]
    },
    {
      "cell_type": "code",
      "metadata": {
        "id": "jDVWPQqQIPSg",
        "outputId": "50a46c36-bbcf-41a6-ad2e-7a625fc1c847",
        "colab": {
          "base_uri": "https://localhost:8080/",
          "height": 480
        }
      },
      "source": [
        "import datetime\n",
        "\n",
        "plt.figure(figsize=(14, 5), dpi=100)\n",
        "plt.plot(df['ds'], df['y'], label='Amazon stock')\n",
        "plt.vlines(datetime.date(2016,4,20), 0, 270, linestyles='--', colors='gray', label='Train/Test data cut-off')\n",
        "plt.xlabel('Date')\n",
        "plt.ylabel('USD')\n",
        "plt.title('Figure 2: Amazon stock price')\n",
        "plt.legend()\n",
        "plt.show()\n"
      ],
      "execution_count": 10,
      "outputs": [
        {
          "output_type": "display_data",
          "data": {
            "text/plain": [
              "<Figure size 1400x500 with 1 Axes>"
            ],
            "image/png": "[encoded data removed]"
          },
          "metadata": {
            "needs_background": "light"
          }
        }
      ]
    },
    {
      "cell_type": "markdown",
      "metadata": {
        "id": "PTLPUwUqxsFn"
      },
      "source": [
        "**I have divided the stock data after 2010 upto 2019 for Amazon. \n",
        "Amazon business really boomed after 2010 and then peaked after 2015 so the testing will be very interesting since most of the data is in the exponential growth period. What I am going to do it normalize the training data such that similar data points over time are reduced to one single data point so that the model can train in such a way it can expect the exponential growth after 2015.**\n",
        "\n",
        "**Inorder to predict better i NEED TO GENERATOR FEATURES SO I HAVE MORE INDICATORS TO PREDICT THE DATA**"
      ]
    },
    {
      "cell_type": "markdown",
      "metadata": {
        "id": "JUrq9syJy4FM"
      },
      "source": [
        "# **FEATURE GENERATION**"
      ]
    },
    {
      "cell_type": "code",
      "metadata": {
        "id": "Pq8-28ZxITgE"
      },
      "source": [
        "def get_technical_indicators(dataset): #function to generate feature technical indicators\n",
        "    \n",
        "    \n",
        "    # Create 7 and 21 days Moving Average\n",
        "    dataset['ma7'] = dataset['Close'].rolling(window = 7).mean()\n",
        "    dataset['ma21'] = dataset['Close'].rolling(window = 21).mean()\n",
        "    \n",
        "    #Create MACD\n",
        "    dataset['26ema'] = dataset['Close'].ewm(span=26).mean()\n",
        "    dataset['12ema'] = dataset['Close'].ewm(span=12).mean()\n",
        "    dataset['MACD'] = (dataset['12ema']-dataset['26ema'])\n",
        "    \n",
        "    #Create Bollinger Bands\n",
        "    dataset['20sd'] = dataset['Close'].rolling(window = 20).std()\n",
        "    dataset['upper_band'] = (dataset['Close'].rolling(window = 20).mean()) + (dataset['20sd']*2)\n",
        "    dataset['lower_band'] = (dataset['Close'].rolling(window = 20).mean()) - (dataset['20sd']*2)\n",
        "    \n",
        "    \n",
        "    #Create Exponential moving average\n",
        "    dataset['ema'] = dataset['Close'].ewm(com=0.5).mean()\n",
        "    \n",
        "    #Create Momentum\n",
        "    dataset['momentum'] = (dataset['Close']/100)-1\n",
        "    \n",
        "    \n",
        "    \n",
        "    return dataset"
      ],
      "execution_count": 11,
      "outputs": []
    },
    {
      "cell_type": "code",
      "metadata": {
        "id": "vLLcWPw0Ij5w"
      },
      "source": [
        "dataset_TI_df = get_technical_indicators(hist_data)"
      ],
      "execution_count": 12,
      "outputs": []
    },
    {
      "cell_type": "code",
      "metadata": {
        "id": "r0dKh8HeImGj",
        "outputId": "0c613688-735a-4c1b-f3bf-03f6aab8abfd",
        "colab": {
          "base_uri": "https://localhost:8080/",
          "height": 354
        }
      },
      "source": [
        "dataset_TI_df.head()"
      ],
      "execution_count": 13,
      "outputs": [
        {
          "output_type": "execute_result",
          "data": {
            "text/plain": [
              "        Date      Open      High       Low     Close    Volume  Dividends  \\\n",
              "0 1997-05-15  2.437500  2.500000  1.927083  1.958333  72156000          0   \n",
              "1 1997-05-16  1.968750  1.979167  1.708333  1.729167  14700000          0   \n",
              "2 1997-05-19  1.760417  1.770833  1.625000  1.708333   6106800          0   \n",
              "3 1997-05-20  1.729167  1.750000  1.635417  1.635417   5467200          0   \n",
              "4 1997-05-21  1.635417  1.645833  1.375000  1.427083  18853200          0   \n",
              "\n",
              "   Stock Splits  ma7  ma21     26ema     12ema      MACD  20sd  upper_band  \\\n",
              "0           0.0  NaN   NaN  1.958333  1.958333  0.000000   NaN         NaN   \n",
              "1           0.0  NaN   NaN  1.839343  1.834201 -0.005142   NaN         NaN   \n",
              "2           0.0  NaN   NaN  1.792272  1.785075 -0.007197   NaN         NaN   \n",
              "3           0.0  NaN   NaN  1.748422  1.737834 -0.010589   NaN         NaN   \n",
              "4           0.0  NaN   NaN  1.673903  1.653404 -0.020499   NaN         NaN   \n",
              "\n",
              "   lower_band       ema  momentum  \n",
              "0         NaN  1.958333 -0.980417  \n",
              "1         NaN  1.786458 -0.982708  \n",
              "2         NaN  1.732372 -0.982917  \n",
              "3         NaN  1.666927 -0.983646  \n",
              "4         NaN  1.506370 -0.985729  "
            ],
            "text/html": [
              "\n",
              "  <div id=\"df-5f17f5a2-2961-42ee-9be0-532b8ef2a040\">\n",
              "    <div class=\"colab-df-container\">\n",
              "      <div>\n",
              "<style scoped>\n",
              "    .dataframe tbody tr th:only-of-type {\n",
              "        vertical-align: middle;\n",
              "    }\n",
              "\n",
              "    .dataframe tbody tr th {\n",
              "        vertical-align: top;\n",
              "    }\n",
              "\n",
              "    .dataframe thead th {\n",
              "        text-align: right;\n",
              "    }\n",
              "</style>\n",
              "<table border=\"1\" class=\"dataframe\">\n",
              "  <thead>\n",
              "    <tr style=\"text-align: right;\">\n",
              "      <th></th>\n",
              "      <th>Date</th>\n",
              "      <th>Open</th>\n",
              "      <th>High</th>\n",
              "      <th>Low</th>\n",
              "      <th>Close</th>\n",
              "      <th>Volume</th>\n",
              "      <th>Dividends</th>\n",
              "      <th>Stock Splits</th>\n",
              "      <th>ma7</th>\n",
              "      <th>ma21</th>\n",
              "      <th>26ema</th>\n",
              "      <th>12ema</th>\n",
              "      <th>MACD</th>\n",
              "      <th>20sd</th>\n",
              "      <th>upper_band</th>\n",
              "      <th>lower_band</th>\n",
              "      <th>ema</th>\n",
              "      <th>momentum</th>\n",
              "    </tr>\n",
              "  </thead>\n",
              "  <tbody>\n",
              "    <tr>\n",
              "      <th>0</th>\n",
              "      <td>1997-05-15</td>\n",
              "      <td>2.437500</td>\n",
              "      <td>2.500000</td>\n",
              "      <td>1.927083</td>\n",
              "      <td>1.958333</td>\n",
              "      <td>72156000</td>\n",
              "      <td>0</td>\n",
              "      <td>0.0</td>\n",
              "      <td>NaN</td>\n",
              "      <td>NaN</td>\n",
              "      <td>1.958333</td>\n",
              "      <td>1.958333</td>\n",
              "      <td>0.000000</td>\n",
              "      <td>NaN</td>\n",
              "      <td>NaN</td>\n",
              "      <td>NaN</td>\n",
              "      <td>1.958333</td>\n",
              "      <td>-0.980417</td>\n",
              "    </tr>\n",
              "    <tr>\n",
              "      <th>1</th>\n",
              "      <td>1997-05-16</td>\n",
              "      <td>1.968750</td>\n",
              "      <td>1.979167</td>\n",
              "      <td>1.708333</td>\n",
              "      <td>1.729167</td>\n",
              "      <td>14700000</td>\n",
              "      <td>0</td>\n",
              "      <td>0.0</td>\n",
              "      <td>NaN</td>\n",
              "      <td>NaN</td>\n",
              "      <td>1.839343</td>\n",
              "      <td>1.834201</td>\n",
              "      <td>-0.005142</td>\n",
              "      <td>NaN</td>\n",
              "      <td>NaN</td>\n",
              "      <td>NaN</td>\n",
              "      <td>1.786458</td>\n",
              "      <td>-0.982708</td>\n",
              "    </tr>\n",
              "    <tr>\n",
              "      <th>2</th>\n",
              "      <td>1997-05-19</td>\n",
              "      <td>1.760417</td>\n",
              "      <td>1.770833</td>\n",
              "      <td>1.625000</td>\n",
              "      <td>1.708333</td>\n",
              "      <td>6106800</td>\n",
              "      <td>0</td>\n",
              "      <td>0.0</td>\n",
              "      <td>NaN</td>\n",
              "      <td>NaN</td>\n",
              "      <td>1.792272</td>\n",
              "      <td>1.785075</td>\n",
              "      <td>-0.007197</td>\n",
              "      <td>NaN</td>\n",
              "      <td>NaN</td>\n",
              "      <td>NaN</td>\n",
              "      <td>1.732372</td>\n",
              "      <td>-0.982917</td>\n",
              "    </tr>\n",
              "    <tr>\n",
              "      <th>3</th>\n",
              "      <td>1997-05-20</td>\n",
              "      <td>1.729167</td>\n",
              "      <td>1.750000</td>\n",
              "      <td>1.635417</td>\n",
              "      <td>1.635417</td>\n",
              "      <td>5467200</td>\n",
              "      <td>0</td>\n",
              "      <td>0.0</td>\n",
              "      <td>NaN</td>\n",
              "      <td>NaN</td>\n",
              "      <td>1.748422</td>\n",
              "      <td>1.737834</td>\n",
              "      <td>-0.010589</td>\n",
              "      <td>NaN</td>\n",
              "      <td>NaN</td>\n",
              "      <td>NaN</td>\n",
              "      <td>1.666927</td>\n",
              "      <td>-0.983646</td>\n",
              "    </tr>\n",
              "    <tr>\n",
              "      <th>4</th>\n",
              "      <td>1997-05-21</td>\n",
              "      <td>1.635417</td>\n",
              "      <td>1.645833</td>\n",
              "      <td>1.375000</td>\n",
              "      <td>1.427083</td>\n",
              "      <td>18853200</td>\n",
              "      <td>0</td>\n",
              "      <td>0.0</td>\n",
              "      <td>NaN</td>\n",
              "      <td>NaN</td>\n",
              "      <td>1.673903</td>\n",
              "      <td>1.653404</td>\n",
              "      <td>-0.020499</td>\n",
              "      <td>NaN</td>\n",
              "      <td>NaN</td>\n",
              "      <td>NaN</td>\n",
              "      <td>1.506370</td>\n",
              "      <td>-0.985729</td>\n",
              "    </tr>\n",
              "  </tbody>\n",
              "</table>\n",
              "</div>\n",
              "      <button class=\"colab-df-convert\" onclick=\"convertToInteractive('df-5f17f5a2-2961-42ee-9be0-532b8ef2a040')\"\n",
              "              title=\"Convert this dataframe to an interactive table.\"\n",
              "              style=\"display:none;\">\n",
              "        \n",
              "  <svg xmlns=\"http://www.w3.org/2000/svg\" height=\"24px\"viewBox=\"0 0 24 24\"\n",
              "       width=\"24px\">\n",
              "    <path d=\"M0 0h24v24H0V0z\" fill=\"none\"/>\n",
              "    <path d=\"M18.56 5.44l.94 2.06.94-2.06 2.06-.94-2.06-.94-.94-2.06-.94 2.06-2.06.94zm-11 1L8.5 8.5l.94-2.06 2.06-.94-2.06-.94L8.5 2.5l-.94 2.06-2.06.94zm10 10l.94 2.06.94-2.06 2.06-.94-2.06-.94-.94-2.06-.94 2.06-2.06.94z\"/><path d=\"M17.41 7.96l-1.37-1.37c-.4-.4-.92-.59-1.43-.59-.52 0-1.04.2-1.43.59L10.3 9.45l-7.72 7.72c-.78.78-.78 2.05 0 2.83L4 21.41c.39.39.9.59 1.41.59.51 0 1.02-.2 1.41-.59l7.78-7.78 2.81-2.81c.8-.78.8-2.07 0-2.86zM5.41 20L4 18.59l7.72-7.72 1.47 1.35L5.41 20z\"/>\n",
              "  </svg>\n",
              "      </button>\n",
              "      \n",
              "  <style>\n",
              "    .colab-df-container {\n",
              "      display:flex;\n",
              "      flex-wrap:wrap;\n",
              "      gap: 12px;\n",
              "    }\n",
              "\n",
              "    .colab-df-convert {\n",
              "      background-color: #E8F0FE;\n",
              "      border: none;\n",
              "      border-radius: 50%;\n",
              "      cursor: pointer;\n",
              "      display: none;\n",
              "      fill: #1967D2;\n",
              "      height: 32px;\n",
              "      padding: 0 0 0 0;\n",
              "      width: 32px;\n",
              "    }\n",
              "\n",
              "    .colab-df-convert:hover {\n",
              "      background-color: #E2EBFA;\n",
              "      box-shadow: 0px 1px 2px rgba(60, 64, 67, 0.3), 0px 1px 3px 1px rgba(60, 64, 67, 0.15);\n",
              "      fill: #174EA6;\n",
              "    }\n",
              "\n",
              "    [theme=dark] .colab-df-convert {\n",
              "      background-color: #3B4455;\n",
              "      fill: #D2E3FC;\n",
              "    }\n",
              "\n",
              "    [theme=dark] .colab-df-convert:hover {\n",
              "      background-color: #434B5C;\n",
              "      box-shadow: 0px 1px 3px 1px rgba(0, 0, 0, 0.15);\n",
              "      filter: drop-shadow(0px 1px 2px rgba(0, 0, 0, 0.3));\n",
              "      fill: #FFFFFF;\n",
              "    }\n",
              "  </style>\n",
              "\n",
              "      <script>\n",
              "        const buttonEl =\n",
              "          document.querySelector('#df-5f17f5a2-2961-42ee-9be0-532b8ef2a040 button.colab-df-convert');\n",
              "        buttonEl.style.display =\n",
              "          google.colab.kernel.accessAllowed ? 'block' : 'none';\n",
              "\n",
              "        async function convertToInteractive(key) {\n",
              "          const element = document.querySelector('#df-5f17f5a2-2961-42ee-9be0-532b8ef2a040');\n",
              "          const dataTable =\n",
              "            await google.colab.kernel.invokeFunction('convertToInteractive',\n",
              "                                                     [key], {});\n",
              "          if (!dataTable) return;\n",
              "\n",
              "          const docLinkHtml = 'Like what you see? Visit the ' +\n",
              "            '<a target=\"_blank\" href=https://colab.research.google.com/notebooks/data_table.ipynb>data table notebook</a>'\n",
              "            + ' to learn more about interactive tables.';\n",
              "          element.innerHTML = '';\n",
              "          dataTable['output_type'] = 'display_data';\n",
              "          await google.colab.output.renderOutput(dataTable, element);\n",
              "          const docLink = document.createElement('div');\n",
              "          docLink.innerHTML = docLinkHtml;\n",
              "          element.appendChild(docLink);\n",
              "        }\n",
              "      </script>\n",
              "    </div>\n",
              "  </div>\n",
              "  "
            ]
          },
          "metadata": {},
          "execution_count": 13
        }
      ]
    },
    {
      "cell_type": "code",
      "metadata": {
        "id": "WI5YM1L4IoXg"
      },
      "source": [
        "def plot_technical_indicators(dataset, last_days):\n",
        "    plt.figure(figsize=(16, 10), dpi=100)\n",
        "    shape_0 = dataset.shape[0]\n",
        "    xmacd_ = shape_0-last_days\n",
        "    \n",
        "    dataset = dataset.iloc[-last_days:, :]\n",
        "    x_ = range(3, dataset.shape[0])\n",
        "    x_ =list(dataset.index)\n",
        "    \n",
        "    # Plot first subplot\n",
        "    plt.subplot(2, 1, 1)\n",
        "    plt.plot(dataset['ma7'],label='MA 7', color='g',linestyle='--')\n",
        "    plt.plot(dataset['Close'],label='Closing Price', color='b')\n",
        "    plt.plot(dataset['ma21'],label='MA 21', color='r',linestyle='--')\n",
        "    plt.plot(dataset['upper_band'],label='Upper Band', color='c')\n",
        "    plt.plot(dataset['lower_band'],label='Lower Band', color='c')\n",
        "    plt.fill_between(x_, dataset['lower_band'], dataset['upper_band'], alpha=0.35)\n",
        "    plt.title('Technical indicators for Amazon - last {} days.'.format(last_days))\n",
        "    plt.ylabel('USD')\n",
        "    plt.legend()\n",
        "\n",
        "   \n",
        "\n",
        "    plt.show()"
      ],
      "execution_count": 14,
      "outputs": []
    },
    {
      "cell_type": "code",
      "metadata": {
        "id": "aDPdCgs_I711",
        "outputId": "85c407d1-ed42-44da-b730-13c592063ed4",
        "colab": {
          "base_uri": "https://localhost:8080/",
          "height": 414
        }
      },
      "source": [
        "plot_technical_indicators(dataset_TI_df, 100)"
      ],
      "execution_count": 15,
      "outputs": [
        {
          "output_type": "display_data",
          "data": {
            "text/plain": [
              "<Figure size 1600x1000 with 1 Axes>"
            ],
            "image/png": "[encoded data removed]"
          },
          "metadata": {
            "needs_background": "light"
          }
        }
      ]
    },
    {
      "cell_type": "code",
      "source": [
        " # Plot second subplot\n",
        "plt.subplot(2, 1, 2)\n",
        "plt.title('MACD')\n",
        "plt.plot(dataset_TI_df['MACD'],label='MACD', linestyle='-.')\n",
        "# plt.hlines(15, xmacd_, shape_0, colors='g', linestyles='--')\n",
        "# plt.hlines(-15, xmacd_, shape_0, colors='g', linestyles='--')\n",
        "plt.plot(dataset_TI_df['momentum'],label='Momentum', color='b',linestyle='-')\n",
        "plt.legend()\n",
        "plt.show()"
      ],
      "metadata": {
        "colab": {
          "base_uri": "https://localhost:8080/",
          "height": 163
        },
        "id": "724ZSkXT4hYg",
        "outputId": "02ecfdb1-5e8a-4bfe-cb45-edd3fbea92e2"
      },
      "execution_count": 16,
      "outputs": [
        {
          "output_type": "display_data",
          "data": {
            "text/plain": [
              "<Figure size 432x288 with 1 Axes>"
            ],
            "image/png": "[encoded data removed]"
          },
          "metadata": {
            "needs_background": "light"
          }
        }
      ]
    },
    {
      "cell_type": "markdown",
      "metadata": {
        "id": "QGDJXjmK_rly"
      },
      "source": [
        "**PLOT UNDERSTANDING:** \n",
        "\n",
        "THE FIRST PLOT IS SELF EXPLANATORY\n",
        "\n",
        "THE SECOND PLOT IS SHOWING THE THRESHOLD BETWEEN MACD AND MOMENTUM. AS YOU CAN SEE MOMENTUM IS GIVING AN AVERAGE VALUE OF THE MACD IN BETEEEN THE PEAK VALUES AND THE HIGHEST OR LOWEST VALUES. MACD DEPENDS ON THE MOVING AVERAGE FEATURES AS CALCULATED ABOVE"
      ]
    },
    {
      "cell_type": "markdown",
      "metadata": {
        "id": "aq3LlT6lAzho"
      },
      "source": [
        "\n",
        "\n",
        ">  \n",
        "# **ANALYSIS OF TIME SERIES USING FOURIER TRANSFORM**\n",
        "\n",
        "\n"
      ]
    },
    {
      "cell_type": "code",
      "metadata": {
        "id": "dyNAHsAFI-EO"
      },
      "source": [
        "data_FT = hist_data[['Date', 'Close']]\n",
        "close_fft = np.fft.fft(np.asarray(data_FT['Close'].tolist()))\n",
        "fft_df = pd.DataFrame({'fft':close_fft})\n",
        "fft_df['absolute'] = fft_df['fft'].apply(lambda x: np.abs(x))\n",
        "fft_df['angle'] = fft_df['fft'].apply(lambda x: np.angle(x))"
      ],
      "execution_count": 17,
      "outputs": []
    },
    {
      "cell_type": "code",
      "metadata": {
        "id": "U58-Ziw0Jq_3",
        "outputId": "638e8b09-a7f5-43ba-de37-ffb7d74e29e7",
        "colab": {
          "base_uri": "https://localhost:8080/",
          "height": 777
        }
      },
      "source": [
        "plt.figure(figsize=(14, 7), dpi=100)\n",
        "fft_list = np.asarray(fft_df['fft'].tolist())\n",
        "for num_ in [3, 6, 9, 100]:\n",
        "    fft_list_m10= np.copy(fft_list); fft_list_m10[num_:-num_]=0\n",
        "    plt.plot(np.fft.ifft(fft_list_m10), label='Fourier transform with {} components'.format(num_))\n",
        "plt.plot(data_FT['Close'],  label='Real')\n",
        "plt.xlabel('Days')\n",
        "plt.ylabel('USD')\n",
        "plt.title('Figure 3: Amazon (close) stock prices & Fourier transforms')\n",
        "plt.legend()\n",
        "plt.show()\n"
      ],
      "execution_count": 18,
      "outputs": [
        {
          "output_type": "stream",
          "name": "stderr",
          "text": [
            "/usr/local/lib/python3.7/dist-packages/matplotlib/cbook/__init__.py:1317: ComplexWarning: Casting complex values to real discards the imaginary part\n",
            "  return np.asarray(x, float)\n",
            "/usr/local/lib/python3.7/dist-packages/matplotlib/cbook/__init__.py:1317: ComplexWarning: Casting complex values to real discards the imaginary part\n",
            "  return np.asarray(x, float)\n",
            "/usr/local/lib/python3.7/dist-packages/matplotlib/cbook/__init__.py:1317: ComplexWarning: Casting complex values to real discards the imaginary part\n",
            "  return np.asarray(x, float)\n",
            "/usr/local/lib/python3.7/dist-packages/matplotlib/cbook/__init__.py:1317: ComplexWarning: Casting complex values to real discards the imaginary part\n",
            "  return np.asarray(x, float)\n"
          ]
        },
        {
          "output_type": "display_data",
          "data": {
            "text/plain": [
              "<Figure size 1400x700 with 1 Axes>"
            ],
            "image/png": "[encoded data removed]"
          },
          "metadata": {
            "needs_background": "light"
          }
        }
      ]
    },
    {
      "cell_type": "markdown",
      "metadata": {
        "id": "Lx_CZZsMDm0U"
      },
      "source": [
        "**Fourier Transform uses many spectral components to try and train data. From time domain its converted to frequency domain and then calculated. After that it's reconverted into time domain where it's plotted.**\n",
        "**Fourier Transform as indicator helps to extract predominate cycle from a series of data**\n",
        "\n",
        "\n",
        "\n"
      ]
    },
    {
      "cell_type": "code",
      "metadata": {
        "id": "S92mKcpwJtak"
      },
      "source": [
        "\n",
        "def get_fourier(dataset):\n",
        "    data_FT = dataset[['Date', 'Close']]\n",
        "    close_fft = np.fft.fft(np.asarray(data_FT['Close'].tolist()))\n",
        "    close_fft = np.fft.ifft(close_fft)\n",
        "    close_fft\n",
        "    fft_df = pd.DataFrame({'fft':close_fft})\n",
        "    fft_df['absolute'] = fft_df['fft'].apply(lambda x: np.abs(x))\n",
        "    fft_df['angle'] = fft_df['fft'].apply(lambda x: np.angle(x))\n",
        "    fft_list = np.asarray(fft_df['fft'].tolist())\n",
        "    fft_list_m10= np.copy(fft_list); fft_list_m10[100:-100]=0\n",
        "    dataset['Fourier'] = pd.DataFrame(fft_list_m10).apply(lambda x: np.abs(x))\n",
        "    #dataset['absolute'] = dataset['Fourier'].apply(lambda x: np.abs(x))\n",
        "    return dataset"
      ],
      "execution_count": 19,
      "outputs": []
    },
    {
      "cell_type": "code",
      "metadata": {
        "id": "UxWEoAzIJ0xu"
      },
      "source": [
        "dataset_TI_df = get_fourier(hist_data)"
      ],
      "execution_count": 20,
      "outputs": []
    },
    {
      "cell_type": "code",
      "metadata": {
        "id": "zlqkfBlQJ9ZR",
        "outputId": "33135c33-b02d-464a-f27d-300d7a1e2b1c",
        "colab": {
          "base_uri": "https://localhost:8080/",
          "height": 1000
        }
      },
      "source": [
        "dataset_TI_df.head(30)"
      ],
      "execution_count": 21,
      "outputs": [
        {
          "output_type": "execute_result",
          "data": {
            "text/plain": [
              "         Date      Open      High       Low     Close    Volume  Dividends  \\\n",
              "0  1997-05-15  2.437500  2.500000  1.927083  1.958333  72156000          0   \n",
              "1  1997-05-16  1.968750  1.979167  1.708333  1.729167  14700000          0   \n",
              "2  1997-05-19  1.760417  1.770833  1.625000  1.708333   6106800          0   \n",
              "3  1997-05-20  1.729167  1.750000  1.635417  1.635417   5467200          0   \n",
              "4  1997-05-21  1.635417  1.645833  1.375000  1.427083  18853200          0   \n",
              "5  1997-05-22  1.437500  1.447917  1.312500  1.395833  11776800          0   \n",
              "6  1997-05-23  1.406250  1.520833  1.333333  1.500000  15937200          0   \n",
              "7  1997-05-27  1.510417  1.645833  1.458333  1.583333   8697600          0   \n",
              "8  1997-05-28  1.625000  1.635417  1.531250  1.531250   4574400          0   \n",
              "9  1997-05-29  1.541667  1.541667  1.479167  1.505208   3472800          0   \n",
              "10 1997-05-30  1.500000  1.510417  1.479167  1.500000   2594400          0   \n",
              "11 1997-06-02  1.510417  1.531250  1.500000  1.510417    591600          0   \n",
              "12 1997-06-03  1.531250  1.531250  1.479167  1.479167   1183200          0   \n",
              "13 1997-06-04  1.479167  1.489583  1.395833  1.416667   3080400          0   \n",
              "14 1997-06-05  1.416667  1.541667  1.375000  1.541667   5672400          0   \n",
              "15 1997-06-06  1.515625  1.708333  1.510417  1.656250   7807200          0   \n",
              "16 1997-06-09  1.656250  1.708333  1.656250  1.687500   2352000          0   \n",
              "17 1997-06-10  1.708333  1.708333  1.531250  1.583333   5458800          0   \n",
              "18 1997-06-11  1.593750  1.604167  1.531250  1.541667   1188000          0   \n",
              "19 1997-06-12  1.583333  1.645833  1.552083  1.604167   1632000          0   \n",
              "20 1997-06-13  1.625000  1.625000  1.583333  1.583333    693600          0   \n",
              "21 1997-06-16  1.604167  1.604167  1.562500  1.572917    913200          0   \n",
              "22 1997-06-17  1.598958  1.598958  1.494792  1.505208   4706400          0   \n",
              "23 1997-06-18  1.520833  1.536458  1.500000  1.510417   2464800          0   \n",
              "24 1997-06-19  1.510417  1.531250  1.500000  1.510417   1003200          0   \n",
              "25 1997-06-20  1.531250  1.552083  1.500000  1.526042   3387600          0   \n",
              "26 1997-06-23  1.541667  1.541667  1.479167  1.500000   1047600          0   \n",
              "27 1997-06-24  1.505208  1.526042  1.479167  1.510417    751200          0   \n",
              "28 1997-06-25  1.526042  1.526042  1.489583  1.510417   2106000          0   \n",
              "29 1997-06-26  1.520833  1.520833  1.505208  1.510417   3189600          0   \n",
              "\n",
              "    Stock Splits       ma7      ma21     26ema     12ema      MACD      20sd  \\\n",
              "0            0.0       NaN       NaN  1.958333  1.958333  0.000000       NaN   \n",
              "1            0.0       NaN       NaN  1.839343  1.834201 -0.005142       NaN   \n",
              "2            0.0       NaN       NaN  1.792272  1.785075 -0.007197       NaN   \n",
              "3            0.0       NaN       NaN  1.748422  1.737834 -0.010589       NaN   \n",
              "4            0.0       NaN       NaN  1.673903  1.653404 -0.020499       NaN   \n",
              "5            0.0       NaN       NaN  1.618207  1.590801 -0.027407       NaN   \n",
              "6            0.0  1.622024       NaN  1.597185  1.570539 -0.026646       NaN   \n",
              "7            0.0  1.568452       NaN  1.594953  1.573209 -0.021744       NaN   \n",
              "8            0.0  1.540178       NaN  1.585511  1.564908 -0.020603       NaN   \n",
              "9            0.0  1.511161       NaN  1.574430  1.553595 -0.020835       NaN   \n",
              "10           0.0  1.491815       NaN  1.564776  1.543788 -0.020988       NaN   \n",
              "11           0.0  1.503720       NaN  1.558097  1.537855 -0.020242       NaN   \n",
              "12           0.0  1.515625       NaN  1.548851  1.527664 -0.021186       NaN   \n",
              "13           0.0  1.503720       NaN  1.534005  1.508765 -0.025240       NaN   \n",
              "14           0.0  1.497768       NaN  1.534834  1.514277 -0.020557       NaN   \n",
              "15           0.0  1.515625       NaN  1.547535  1.537739 -0.009796       NaN   \n",
              "16           0.0  1.541667       NaN  1.561743  1.562209  0.000466       NaN   \n",
              "17           0.0  1.553572       NaN  1.563876  1.565628  0.001752       NaN   \n",
              "18           0.0  1.558036       NaN  1.561734  1.561781  0.000046       NaN   \n",
              "19           0.0  1.575893       NaN  1.565736  1.568541  0.002805  0.130797   \n",
              "20           0.0  1.599702  1.575149  1.567363  1.570887  0.003524  0.094853   \n",
              "21           0.0  1.604167  1.556796  1.567867  1.571207  0.003340  0.085846   \n",
              "22           0.0  1.582589  1.546131  1.562273  1.560831 -0.001442  0.077512   \n",
              "23           0.0  1.557292  1.536706  1.557712  1.552932 -0.004781  0.074215   \n",
              "24           0.0  1.546875  1.530754  1.553610  1.546289 -0.007321  0.070262   \n",
              "25           0.0  1.544643  1.535466  1.551249  1.543133 -0.008116  0.062163   \n",
              "26           0.0  1.529762  1.540427  1.546909  1.536423 -0.010486  0.062163   \n",
              "27           0.0  1.519345  1.540923  1.543852  1.532385 -0.011467  0.061776   \n",
              "28           0.0  1.510417  1.537451  1.541077  1.528978 -0.012099  0.062085   \n",
              "29           0.0  1.511161  1.536458  1.538556  1.526104 -0.012452  0.061952   \n",
              "\n",
              "    upper_band  lower_band       ema  momentum   Fourier  \n",
              "0          NaN         NaN  1.958333 -0.980417  1.958333  \n",
              "1          NaN         NaN  1.786458 -0.982708  1.729167  \n",
              "2          NaN         NaN  1.732372 -0.982917  1.708333  \n",
              "3          NaN         NaN  1.666927 -0.983646  1.635417  \n",
              "4          NaN         NaN  1.506370 -0.985729  1.427083  \n",
              "5          NaN         NaN  1.432578 -0.986042  1.395833  \n",
              "6          NaN         NaN  1.477546 -0.985000  1.500000  \n",
              "7          NaN         NaN  1.548082 -0.984167  1.583333  \n",
              "8          NaN         NaN  1.536860 -0.984688  1.531250  \n",
              "9          NaN         NaN  1.515758 -0.984948  1.505208  \n",
              "10         NaN         NaN  1.505253 -0.985000  1.500000  \n",
              "11         NaN         NaN  1.508696 -0.984896  1.510417  \n",
              "12         NaN         NaN  1.489010 -0.985208  1.479167  \n",
              "13         NaN         NaN  1.440781 -0.985833  1.416667  \n",
              "14         NaN         NaN  1.508038 -0.984583  1.541667  \n",
              "15         NaN         NaN  1.606846 -0.983437  1.656250  \n",
              "16         NaN         NaN  1.660615 -0.983125  1.687500  \n",
              "17         NaN         NaN  1.609094 -0.984167  1.583333  \n",
              "18         NaN         NaN  1.564143 -0.984583  1.541667  \n",
              "19    1.836333    1.313146  1.590826 -0.983958  1.604167  \n",
              "20    1.745696    1.366283  1.585831 -0.984167  1.583333  \n",
              "21    1.719869    1.376485  1.577221 -0.984271  1.572917  \n",
              "22    1.693045    1.382996  1.529213 -0.984948  1.505208  \n",
              "23    1.680201    1.383341  1.516682 -0.984896  1.510417  \n",
              "24    1.676462    1.395413  1.512505 -0.984896  1.510417  \n",
              "25    1.666773    1.418123  1.521530 -0.984740  1.526042  \n",
              "26    1.666773    1.418123  1.507177 -0.985000  1.500000  \n",
              "27    1.662353    1.415251  1.509337 -0.984896  1.510417  \n",
              "28    1.661930    1.413592  1.510057 -0.984896  1.510417  \n",
              "29    1.661924    1.414118  1.510297 -0.984896  1.510417  "
            ],
            "text/html": [
              "\n",
              "  <div id=\"df-36c9aff3-ff5f-4707-9a20-9a8e638d6601\">\n",
              "    <div class=\"colab-df-container\">\n",
              "      <div>\n",
              "<style scoped>\n",
              "    .dataframe tbody tr th:only-of-type {\n",
              "        vertical-align: middle;\n",
              "    }\n",
              "\n",
              "    .dataframe tbody tr th {\n",
              "        vertical-align: top;\n",
              "    }\n",
              "\n",
              "    .dataframe thead th {\n",
              "        text-align: right;\n",
              "    }\n",
              "</style>\n",
              "<table border=\"1\" class=\"dataframe\">\n",
              "  <thead>\n",
              "    <tr style=\"text-align: right;\">\n",
              "      <th></th>\n",
              "      <th>Date</th>\n",
              "      <th>Open</th>\n",
              "      <th>High</th>\n",
              "      <th>Low</th>\n",
              "      <th>Close</th>\n",
              "      <th>Volume</th>\n",
              "      <th>Dividends</th>\n",
              "      <th>Stock Splits</th>\n",
              "      <th>ma7</th>\n",
              "      <th>ma21</th>\n",
              "      <th>26ema</th>\n",
              "      <th>12ema</th>\n",
              "      <th>MACD</th>\n",
              "      <th>20sd</th>\n",
              "      <th>upper_band</th>\n",
              "      <th>lower_band</th>\n",
              "      <th>ema</th>\n",
              "      <th>momentum</th>\n",
              "      <th>Fourier</th>\n",
              "    </tr>\n",
              "  </thead>\n",
              "  <tbody>\n",
              "    <tr>\n",
              "      <th>0</th>\n",
              "      <td>1997-05-15</td>\n",
              "      <td>2.437500</td>\n",
              "      <td>2.500000</td>\n",
              "      <td>1.927083</td>\n",
              "      <td>1.958333</td>\n",
              "      <td>72156000</td>\n",
              "      <td>0</td>\n",
              "      <td>0.0</td>\n",
              "      <td>NaN</td>\n",
              "      <td>NaN</td>\n",
              "      <td>1.958333</td>\n",
              "      <td>1.958333</td>\n",
              "      <td>0.000000</td>\n",
              "      <td>NaN</td>\n",
              "      <td>NaN</td>\n",
              "      <td>NaN</td>\n",
              "      <td>1.958333</td>\n",
              "      <td>-0.980417</td>\n",
              "      <td>1.958333</td>\n",
              "    </tr>\n",
              "    <tr>\n",
              "      <th>1</th>\n",
              "      <td>1997-05-16</td>\n",
              "      <td>1.968750</td>\n",
              "      <td>1.979167</td>\n",
              "      <td>1.708333</td>\n",
              "      <td>1.729167</td>\n",
              "      <td>14700000</td>\n",
              "      <td>0</td>\n",
              "      <td>0.0</td>\n",
              "      <td>NaN</td>\n",
              "      <td>NaN</td>\n",
              "      <td>1.839343</td>\n",
              "      <td>1.834201</td>\n",
              "      <td>-0.005142</td>\n",
              "      <td>NaN</td>\n",
              "      <td>NaN</td>\n",
              "      <td>NaN</td>\n",
              "      <td>1.786458</td>\n",
              "      <td>-0.982708</td>\n",
              "      <td>1.729167</td>\n",
              "    </tr>\n",
              "    <tr>\n",
              "      <th>2</th>\n",
              "      <td>1997-05-19</td>\n",
              "      <td>1.760417</td>\n",
              "      <td>1.770833</td>\n",
              "      <td>1.625000</td>\n",
              "      <td>1.708333</td>\n",
              "      <td>6106800</td>\n",
              "      <td>0</td>\n",
              "      <td>0.0</td>\n",
              "      <td>NaN</td>\n",
              "      <td>NaN</td>\n",
              "      <td>1.792272</td>\n",
              "      <td>1.785075</td>\n",
              "      <td>-0.007197</td>\n",
              "      <td>NaN</td>\n",
              "      <td>NaN</td>\n",
              "      <td>NaN</td>\n",
              "      <td>1.732372</td>\n",
              "      <td>-0.982917</td>\n",
              "      <td>1.708333</td>\n",
              "    </tr>\n",
              "    <tr>\n",
              "      <th>3</th>\n",
              "      <td>1997-05-20</td>\n",
              "      <td>1.729167</td>\n",
              "      <td>1.750000</td>\n",
              "      <td>1.635417</td>\n",
              "      <td>1.635417</td>\n",
              "      <td>5467200</td>\n",
              "      <td>0</td>\n",
              "      <td>0.0</td>\n",
              "      <td>NaN</td>\n",
              "      <td>NaN</td>\n",
              "      <td>1.748422</td>\n",
              "      <td>1.737834</td>\n",
              "      <td>-0.010589</td>\n",
              "      <td>NaN</td>\n",
              "      <td>NaN</td>\n",
              "      <td>NaN</td>\n",
              "      <td>1.666927</td>\n",
              "      <td>-0.983646</td>\n",
              "      <td>1.635417</td>\n",
              "    </tr>\n",
              "    <tr>\n",
              "      <th>4</th>\n",
              "      <td>1997-05-21</td>\n",
              "      <td>1.635417</td>\n",
              "      <td>1.645833</td>\n",
              "      <td>1.375000</td>\n",
              "      <td>1.427083</td>\n",
              "      <td>18853200</td>\n",
              "      <td>0</td>\n",
              "      <td>0.0</td>\n",
              "      <td>NaN</td>\n",
              "      <td>NaN</td>\n",
              "      <td>1.673903</td>\n",
              "      <td>1.653404</td>\n",
              "      <td>-0.020499</td>\n",
              "      <td>NaN</td>\n",
              "      <td>NaN</td>\n",
              "      <td>NaN</td>\n",
              "      <td>1.506370</td>\n",
              "      <td>-0.985729</td>\n",
              "      <td>1.427083</td>\n",
              "    </tr>\n",
              "    <tr>\n",
              "      <th>5</th>\n",
              "      <td>1997-05-22</td>\n",
              "      <td>1.437500</td>\n",
              "      <td>1.447917</td>\n",
              "      <td>1.312500</td>\n",
              "      <td>1.395833</td>\n",
              "      <td>11776800</td>\n",
              "      <td>0</td>\n",
              "      <td>0.0</td>\n",
              "      <td>NaN</td>\n",
              "      <td>NaN</td>\n",
              "      <td>1.618207</td>\n",
              "      <td>1.590801</td>\n",
              "      <td>-0.027407</td>\n",
              "      <td>NaN</td>\n",
              "      <td>NaN</td>\n",
              "      <td>NaN</td>\n",
              "      <td>1.432578</td>\n",
              "      <td>-0.986042</td>\n",
              "      <td>1.395833</td>\n",
              "    </tr>\n",
              "    <tr>\n",
              "      <th>6</th>\n",
              "      <td>1997-05-23</td>\n",
              "      <td>1.406250</td>\n",
              "      <td>1.520833</td>\n",
              "      <td>1.333333</td>\n",
              "      <td>1.500000</td>\n",
              "      <td>15937200</td>\n",
              "      <td>0</td>\n",
              "      <td>0.0</td>\n",
              "      <td>1.622024</td>\n",
              "      <td>NaN</td>\n",
              "      <td>1.597185</td>\n",
              "      <td>1.570539</td>\n",
              "      <td>-0.026646</td>\n",
              "      <td>NaN</td>\n",
              "      <td>NaN</td>\n",
              "      <td>NaN</td>\n",
              "      <td>1.477546</td>\n",
              "      <td>-0.985000</td>\n",
              "      <td>1.500000</td>\n",
              "    </tr>\n",
              "    <tr>\n",
              "      <th>7</th>\n",
              "      <td>1997-05-27</td>\n",
              "      <td>1.510417</td>\n",
              "      <td>1.645833</td>\n",
              "      <td>1.458333</td>\n",
              "      <td>1.583333</td>\n",
              "      <td>8697600</td>\n",
              "      <td>0</td>\n",
              "      <td>0.0</td>\n",
              "      <td>1.568452</td>\n",
              "      <td>NaN</td>\n",
              "      <td>1.594953</td>\n",
              "      <td>1.573209</td>\n",
              "      <td>-0.021744</td>\n",
              "      <td>NaN</td>\n",
              "      <td>NaN</td>\n",
              "      <td>NaN</td>\n",
              "      <td>1.548082</td>\n",
              "      <td>-0.984167</td>\n",
              "      <td>1.583333</td>\n",
              "    </tr>\n",
              "    <tr>\n",
              "      <th>8</th>\n",
              "      <td>1997-05-28</td>\n",
              "      <td>1.625000</td>\n",
              "      <td>1.635417</td>\n",
              "      <td>1.531250</td>\n",
              "      <td>1.531250</td>\n",
              "      <td>4574400</td>\n",
              "      <td>0</td>\n",
              "      <td>0.0</td>\n",
              "      <td>1.540178</td>\n",
              "      <td>NaN</td>\n",
              "      <td>1.585511</td>\n",
              "      <td>1.564908</td>\n",
              "      <td>-0.020603</td>\n",
              "      <td>NaN</td>\n",
              "      <td>NaN</td>\n",
              "      <td>NaN</td>\n",
              "      <td>1.536860</td>\n",
              "      <td>-0.984688</td>\n",
              "      <td>1.531250</td>\n",
              "    </tr>\n",
              "    <tr>\n",
              "      <th>9</th>\n",
              "      <td>1997-05-29</td>\n",
              "      <td>1.541667</td>\n",
              "      <td>1.541667</td>\n",
              "      <td>1.479167</td>\n",
              "      <td>1.505208</td>\n",
              "      <td>3472800</td>\n",
              "      <td>0</td>\n",
              "      <td>0.0</td>\n",
              "      <td>1.511161</td>\n",
              "      <td>NaN</td>\n",
              "      <td>1.574430</td>\n",
              "      <td>1.553595</td>\n",
              "      <td>-0.020835</td>\n",
              "      <td>NaN</td>\n",
              "      <td>NaN</td>\n",
              "      <td>NaN</td>\n",
              "      <td>1.515758</td>\n",
              "      <td>-0.984948</td>\n",
              "      <td>1.505208</td>\n",
              "    </tr>\n",
              "    <tr>\n",
              "      <th>10</th>\n",
              "      <td>1997-05-30</td>\n",
              "      <td>1.500000</td>\n",
              "      <td>1.510417</td>\n",
              "      <td>1.479167</td>\n",
              "      <td>1.500000</td>\n",
              "      <td>2594400</td>\n",
              "      <td>0</td>\n",
              "      <td>0.0</td>\n",
              "      <td>1.491815</td>\n",
              "      <td>NaN</td>\n",
              "      <td>1.564776</td>\n",
              "      <td>1.543788</td>\n",
              "      <td>-0.020988</td>\n",
              "      <td>NaN</td>\n",
              "      <td>NaN</td>\n",
              "      <td>NaN</td>\n",
              "      <td>1.505253</td>\n",
              "      <td>-0.985000</td>\n",
              "      <td>1.500000</td>\n",
              "    </tr>\n",
              "    <tr>\n",
              "      <th>11</th>\n",
              "      <td>1997-06-02</td>\n",
              "      <td>1.510417</td>\n",
              "      <td>1.531250</td>\n",
              "      <td>1.500000</td>\n",
              "      <td>1.510417</td>\n",
              "      <td>591600</td>\n",
              "      <td>0</td>\n",
              "      <td>0.0</td>\n",
              "      <td>1.503720</td>\n",
              "      <td>NaN</td>\n",
              "      <td>1.558097</td>\n",
              "      <td>1.537855</td>\n",
              "      <td>-0.020242</td>\n",
              "      <td>NaN</td>\n",
              "      <td>NaN</td>\n",
              "      <td>NaN</td>\n",
              "      <td>1.508696</td>\n",
              "      <td>-0.984896</td>\n",
              "      <td>1.510417</td>\n",
              "    </tr>\n",
              "    <tr>\n",
              "      <th>12</th>\n",
              "      <td>1997-06-03</td>\n",
              "      <td>1.531250</td>\n",
              "      <td>1.531250</td>\n",
              "      <td>1.479167</td>\n",
              "      <td>1.479167</td>\n",
              "      <td>1183200</td>\n",
              "      <td>0</td>\n",
              "      <td>0.0</td>\n",
              "      <td>1.515625</td>\n",
              "      <td>NaN</td>\n",
              "      <td>1.548851</td>\n",
              "      <td>1.527664</td>\n",
              "      <td>-0.021186</td>\n",
              "      <td>NaN</td>\n",
              "      <td>NaN</td>\n",
              "      <td>NaN</td>\n",
              "      <td>1.489010</td>\n",
              "      <td>-0.985208</td>\n",
              "      <td>1.479167</td>\n",
              "    </tr>\n",
              "    <tr>\n",
              "      <th>13</th>\n",
              "      <td>1997-06-04</td>\n",
              "      <td>1.479167</td>\n",
              "      <td>1.489583</td>\n",
              "      <td>1.395833</td>\n",
              "      <td>1.416667</td>\n",
              "      <td>3080400</td>\n",
              "      <td>0</td>\n",
              "      <td>0.0</td>\n",
              "      <td>1.503720</td>\n",
              "      <td>NaN</td>\n",
              "      <td>1.534005</td>\n",
              "      <td>1.508765</td>\n",
              "      <td>-0.025240</td>\n",
              "      <td>NaN</td>\n",
              "      <td>NaN</td>\n",
              "      <td>NaN</td>\n",
              "      <td>1.440781</td>\n",
              "      <td>-0.985833</td>\n",
              "      <td>1.416667</td>\n",
              "    </tr>\n",
              "    <tr>\n",
              "      <th>14</th>\n",
              "      <td>1997-06-05</td>\n",
              "      <td>1.416667</td>\n",
              "      <td>1.541667</td>\n",
              "      <td>1.375000</td>\n",
              "      <td>1.541667</td>\n",
              "      <td>5672400</td>\n",
              "      <td>0</td>\n",
              "      <td>0.0</td>\n",
              "      <td>1.497768</td>\n",
              "      <td>NaN</td>\n",
              "      <td>1.534834</td>\n",
              "      <td>1.514277</td>\n",
              "      <td>-0.020557</td>\n",
              "      <td>NaN</td>\n",
              "      <td>NaN</td>\n",
              "      <td>NaN</td>\n",
              "      <td>1.508038</td>\n",
              "      <td>-0.984583</td>\n",
              "      <td>1.541667</td>\n",
              "    </tr>\n",
              "    <tr>\n",
              "      <th>15</th>\n",
              "      <td>1997-06-06</td>\n",
              "      <td>1.515625</td>\n",
              "      <td>1.708333</td>\n",
              "      <td>1.510417</td>\n",
              "      <td>1.656250</td>\n",
              "      <td>7807200</td>\n",
              "      <td>0</td>\n",
              "      <td>0.0</td>\n",
              "      <td>1.515625</td>\n",
              "      <td>NaN</td>\n",
              "      <td>1.547535</td>\n",
              "      <td>1.537739</td>\n",
              "      <td>-0.009796</td>\n",
              "      <td>NaN</td>\n",
              "      <td>NaN</td>\n",
              "      <td>NaN</td>\n",
              "      <td>1.606846</td>\n",
              "      <td>-0.983437</td>\n",
              "      <td>1.656250</td>\n",
              "    </tr>\n",
              "    <tr>\n",
              "      <th>16</th>\n",
              "      <td>1997-06-09</td>\n",
              "      <td>1.656250</td>\n",
              "      <td>1.708333</td>\n",
              "      <td>1.656250</td>\n",
              "      <td>1.687500</td>\n",
              "      <td>2352000</td>\n",
              "      <td>0</td>\n",
              "      <td>0.0</td>\n",
              "      <td>1.541667</td>\n",
              "      <td>NaN</td>\n",
              "      <td>1.561743</td>\n",
              "      <td>1.562209</td>\n",
              "      <td>0.000466</td>\n",
              "      <td>NaN</td>\n",
              "      <td>NaN</td>\n",
              "      <td>NaN</td>\n",
              "      <td>1.660615</td>\n",
              "      <td>-0.983125</td>\n",
              "      <td>1.687500</td>\n",
              "    </tr>\n",
              "    <tr>\n",
              "      <th>17</th>\n",
              "      <td>1997-06-10</td>\n",
              "      <td>1.708333</td>\n",
              "      <td>1.708333</td>\n",
              "      <td>1.531250</td>\n",
              "      <td>1.583333</td>\n",
              "      <td>5458800</td>\n",
              "      <td>0</td>\n",
              "      <td>0.0</td>\n",
              "      <td>1.553572</td>\n",
              "      <td>NaN</td>\n",
              "      <td>1.563876</td>\n",
              "      <td>1.565628</td>\n",
              "      <td>0.001752</td>\n",
              "      <td>NaN</td>\n",
              "      <td>NaN</td>\n",
              "      <td>NaN</td>\n",
              "      <td>1.609094</td>\n",
              "      <td>-0.984167</td>\n",
              "      <td>1.583333</td>\n",
              "    </tr>\n",
              "    <tr>\n",
              "      <th>18</th>\n",
              "      <td>1997-06-11</td>\n",
              "      <td>1.593750</td>\n",
              "      <td>1.604167</td>\n",
              "      <td>1.531250</td>\n",
              "      <td>1.541667</td>\n",
              "      <td>1188000</td>\n",
              "      <td>0</td>\n",
              "      <td>0.0</td>\n",
              "      <td>1.558036</td>\n",
              "      <td>NaN</td>\n",
              "      <td>1.561734</td>\n",
              "      <td>1.561781</td>\n",
              "      <td>0.000046</td>\n",
              "      <td>NaN</td>\n",
              "      <td>NaN</td>\n",
              "      <td>NaN</td>\n",
              "      <td>1.564143</td>\n",
              "      <td>-0.984583</td>\n",
              "      <td>1.541667</td>\n",
              "    </tr>\n",
              "    <tr>\n",
              "      <th>19</th>\n",
              "      <td>1997-06-12</td>\n",
              "      <td>1.583333</td>\n",
              "      <td>1.645833</td>\n",
              "      <td>1.552083</td>\n",
              "      <td>1.604167</td>\n",
              "      <td>1632000</td>\n",
              "      <td>0</td>\n",
              "      <td>0.0</td>\n",
              "      <td>1.575893</td>\n",
              "      <td>NaN</td>\n",
              "      <td>1.565736</td>\n",
              "      <td>1.568541</td>\n",
              "      <td>0.002805</td>\n",
              "      <td>0.130797</td>\n",
              "      <td>1.836333</td>\n",
              "      <td>1.313146</td>\n",
              "      <td>1.590826</td>\n",
              "      <td>-0.983958</td>\n",
              "      <td>1.604167</td>\n",
              "    </tr>\n",
              "    <tr>\n",
              "      <th>20</th>\n",
              "      <td>1997-06-13</td>\n",
              "      <td>1.625000</td>\n",
              "      <td>1.625000</td>\n",
              "      <td>1.583333</td>\n",
              "      <td>1.583333</td>\n",
              "      <td>693600</td>\n",
              "      <td>0</td>\n",
              "      <td>0.0</td>\n",
              "      <td>1.599702</td>\n",
              "      <td>1.575149</td>\n",
              "      <td>1.567363</td>\n",
              "      <td>1.570887</td>\n",
              "      <td>0.003524</td>\n",
              "      <td>0.094853</td>\n",
              "      <td>1.745696</td>\n",
              "      <td>1.366283</td>\n",
              "      <td>1.585831</td>\n",
              "      <td>-0.984167</td>\n",
              "      <td>1.583333</td>\n",
              "    </tr>\n",
              "    <tr>\n",
              "      <th>21</th>\n",
              "      <td>1997-06-16</td>\n",
              "      <td>1.604167</td>\n",
              "      <td>1.604167</td>\n",
              "      <td>1.562500</td>\n",
              "      <td>1.572917</td>\n",
              "      <td>913200</td>\n",
              "      <td>0</td>\n",
              "      <td>0.0</td>\n",
              "      <td>1.604167</td>\n",
              "      <td>1.556796</td>\n",
              "      <td>1.567867</td>\n",
              "      <td>1.571207</td>\n",
              "      <td>0.003340</td>\n",
              "      <td>0.085846</td>\n",
              "      <td>1.719869</td>\n",
              "      <td>1.376485</td>\n",
              "      <td>1.577221</td>\n",
              "      <td>-0.984271</td>\n",
              "      <td>1.572917</td>\n",
              "    </tr>\n",
              "    <tr>\n",
              "      <th>22</th>\n",
              "      <td>1997-06-17</td>\n",
              "      <td>1.598958</td>\n",
              "      <td>1.598958</td>\n",
              "      <td>1.494792</td>\n",
              "      <td>1.505208</td>\n",
              "      <td>4706400</td>\n",
              "      <td>0</td>\n",
              "      <td>0.0</td>\n",
              "      <td>1.582589</td>\n",
              "      <td>1.546131</td>\n",
              "      <td>1.562273</td>\n",
              "      <td>1.560831</td>\n",
              "      <td>-0.001442</td>\n",
              "      <td>0.077512</td>\n",
              "      <td>1.693045</td>\n",
              "      <td>1.382996</td>\n",
              "      <td>1.529213</td>\n",
              "      <td>-0.984948</td>\n",
              "      <td>1.505208</td>\n",
              "    </tr>\n",
              "    <tr>\n",
              "      <th>23</th>\n",
              "      <td>1997-06-18</td>\n",
              "      <td>1.520833</td>\n",
              "      <td>1.536458</td>\n",
              "      <td>1.500000</td>\n",
              "      <td>1.510417</td>\n",
              "      <td>2464800</td>\n",
              "      <td>0</td>\n",
              "      <td>0.0</td>\n",
              "      <td>1.557292</td>\n",
              "      <td>1.536706</td>\n",
              "      <td>1.557712</td>\n",
              "      <td>1.552932</td>\n",
              "      <td>-0.004781</td>\n",
              "      <td>0.074215</td>\n",
              "      <td>1.680201</td>\n",
              "      <td>1.383341</td>\n",
              "      <td>1.516682</td>\n",
              "      <td>-0.984896</td>\n",
              "      <td>1.510417</td>\n",
              "    </tr>\n",
              "    <tr>\n",
              "      <th>24</th>\n",
              "      <td>1997-06-19</td>\n",
              "      <td>1.510417</td>\n",
              "      <td>1.531250</td>\n",
              "      <td>1.500000</td>\n",
              "      <td>1.510417</td>\n",
              "      <td>1003200</td>\n",
              "      <td>0</td>\n",
              "      <td>0.0</td>\n",
              "      <td>1.546875</td>\n",
              "      <td>1.530754</td>\n",
              "      <td>1.553610</td>\n",
              "      <td>1.546289</td>\n",
              "      <td>-0.007321</td>\n",
              "      <td>0.070262</td>\n",
              "      <td>1.676462</td>\n",
              "      <td>1.395413</td>\n",
              "      <td>1.512505</td>\n",
              "      <td>-0.984896</td>\n",
              "      <td>1.510417</td>\n",
              "    </tr>\n",
              "    <tr>\n",
              "      <th>25</th>\n",
              "      <td>1997-06-20</td>\n",
              "      <td>1.531250</td>\n",
              "      <td>1.552083</td>\n",
              "      <td>1.500000</td>\n",
              "      <td>1.526042</td>\n",
              "      <td>3387600</td>\n",
              "      <td>0</td>\n",
              "      <td>0.0</td>\n",
              "      <td>1.544643</td>\n",
              "      <td>1.535466</td>\n",
              "      <td>1.551249</td>\n",
              "      <td>1.543133</td>\n",
              "      <td>-0.008116</td>\n",
              "      <td>0.062163</td>\n",
              "      <td>1.666773</td>\n",
              "      <td>1.418123</td>\n",
              "      <td>1.521530</td>\n",
              "      <td>-0.984740</td>\n",
              "      <td>1.526042</td>\n",
              "    </tr>\n",
              "    <tr>\n",
              "      <th>26</th>\n",
              "      <td>1997-06-23</td>\n",
              "      <td>1.541667</td>\n",
              "      <td>1.541667</td>\n",
              "      <td>1.479167</td>\n",
              "      <td>1.500000</td>\n",
              "      <td>1047600</td>\n",
              "      <td>0</td>\n",
              "      <td>0.0</td>\n",
              "      <td>1.529762</td>\n",
              "      <td>1.540427</td>\n",
              "      <td>1.546909</td>\n",
              "      <td>1.536423</td>\n",
              "      <td>-0.010486</td>\n",
              "      <td>0.062163</td>\n",
              "      <td>1.666773</td>\n",
              "      <td>1.418123</td>\n",
              "      <td>1.507177</td>\n",
              "      <td>-0.985000</td>\n",
              "      <td>1.500000</td>\n",
              "    </tr>\n",
              "    <tr>\n",
              "      <th>27</th>\n",
              "      <td>1997-06-24</td>\n",
              "      <td>1.505208</td>\n",
              "      <td>1.526042</td>\n",
              "      <td>1.479167</td>\n",
              "      <td>1.510417</td>\n",
              "      <td>751200</td>\n",
              "      <td>0</td>\n",
              "      <td>0.0</td>\n",
              "      <td>1.519345</td>\n",
              "      <td>1.540923</td>\n",
              "      <td>1.543852</td>\n",
              "      <td>1.532385</td>\n",
              "      <td>-0.011467</td>\n",
              "      <td>0.061776</td>\n",
              "      <td>1.662353</td>\n",
              "      <td>1.415251</td>\n",
              "      <td>1.509337</td>\n",
              "      <td>-0.984896</td>\n",
              "      <td>1.510417</td>\n",
              "    </tr>\n",
              "    <tr>\n",
              "      <th>28</th>\n",
              "      <td>1997-06-25</td>\n",
              "      <td>1.526042</td>\n",
              "      <td>1.526042</td>\n",
              "      <td>1.489583</td>\n",
              "      <td>1.510417</td>\n",
              "      <td>2106000</td>\n",
              "      <td>0</td>\n",
              "      <td>0.0</td>\n",
              "      <td>1.510417</td>\n",
              "      <td>1.537451</td>\n",
              "      <td>1.541077</td>\n",
              "      <td>1.528978</td>\n",
              "      <td>-0.012099</td>\n",
              "      <td>0.062085</td>\n",
              "      <td>1.661930</td>\n",
              "      <td>1.413592</td>\n",
              "      <td>1.510057</td>\n",
              "      <td>-0.984896</td>\n",
              "      <td>1.510417</td>\n",
              "    </tr>\n",
              "    <tr>\n",
              "      <th>29</th>\n",
              "      <td>1997-06-26</td>\n",
              "      <td>1.520833</td>\n",
              "      <td>1.520833</td>\n",
              "      <td>1.505208</td>\n",
              "      <td>1.510417</td>\n",
              "      <td>3189600</td>\n",
              "      <td>0</td>\n",
              "      <td>0.0</td>\n",
              "      <td>1.511161</td>\n",
              "      <td>1.536458</td>\n",
              "      <td>1.538556</td>\n",
              "      <td>1.526104</td>\n",
              "      <td>-0.012452</td>\n",
              "      <td>0.061952</td>\n",
              "      <td>1.661924</td>\n",
              "      <td>1.414118</td>\n",
              "      <td>1.510297</td>\n",
              "      <td>-0.984896</td>\n",
              "      <td>1.510417</td>\n",
              "    </tr>\n",
              "  </tbody>\n",
              "</table>\n",
              "</div>\n",
              "      <button class=\"colab-df-convert\" onclick=\"convertToInteractive('df-36c9aff3-ff5f-4707-9a20-9a8e638d6601')\"\n",
              "              title=\"Convert this dataframe to an interactive table.\"\n",
              "              style=\"display:none;\">\n",
              "        \n",
              "  <svg xmlns=\"http://www.w3.org/2000/svg\" height=\"24px\"viewBox=\"0 0 24 24\"\n",
              "       width=\"24px\">\n",
              "    <path d=\"M0 0h24v24H0V0z\" fill=\"none\"/>\n",
              "    <path d=\"M18.56 5.44l.94 2.06.94-2.06 2.06-.94-2.06-.94-.94-2.06-.94 2.06-2.06.94zm-11 1L8.5 8.5l.94-2.06 2.06-.94-2.06-.94L8.5 2.5l-.94 2.06-2.06.94zm10 10l.94 2.06.94-2.06 2.06-.94-2.06-.94-.94-2.06-.94 2.06-2.06.94z\"/><path d=\"M17.41 7.96l-1.37-1.37c-.4-.4-.92-.59-1.43-.59-.52 0-1.04.2-1.43.59L10.3 9.45l-7.72 7.72c-.78.78-.78 2.05 0 2.83L4 21.41c.39.39.9.59 1.41.59.51 0 1.02-.2 1.41-.59l7.78-7.78 2.81-2.81c.8-.78.8-2.07 0-2.86zM5.41 20L4 18.59l7.72-7.72 1.47 1.35L5.41 20z\"/>\n",
              "  </svg>\n",
              "      </button>\n",
              "      \n",
              "  <style>\n",
              "    .colab-df-container {\n",
              "      display:flex;\n",
              "      flex-wrap:wrap;\n",
              "      gap: 12px;\n",
              "    }\n",
              "\n",
              "    .colab-df-convert {\n",
              "      background-color: #E8F0FE;\n",
              "      border: none;\n",
              "      border-radius: 50%;\n",
              "      cursor: pointer;\n",
              "      display: none;\n",
              "      fill: #1967D2;\n",
              "      height: 32px;\n",
              "      padding: 0 0 0 0;\n",
              "      width: 32px;\n",
              "    }\n",
              "\n",
              "    .colab-df-convert:hover {\n",
              "      background-color: #E2EBFA;\n",
              "      box-shadow: 0px 1px 2px rgba(60, 64, 67, 0.3), 0px 1px 3px 1px rgba(60, 64, 67, 0.15);\n",
              "      fill: #174EA6;\n",
              "    }\n",
              "\n",
              "    [theme=dark] .colab-df-convert {\n",
              "      background-color: #3B4455;\n",
              "      fill: #D2E3FC;\n",
              "    }\n",
              "\n",
              "    [theme=dark] .colab-df-convert:hover {\n",
              "      background-color: #434B5C;\n",
              "      box-shadow: 0px 1px 3px 1px rgba(0, 0, 0, 0.15);\n",
              "      filter: drop-shadow(0px 1px 2px rgba(0, 0, 0, 0.3));\n",
              "      fill: #FFFFFF;\n",
              "    }\n",
              "  </style>\n",
              "\n",
              "      <script>\n",
              "        const buttonEl =\n",
              "          document.querySelector('#df-36c9aff3-ff5f-4707-9a20-9a8e638d6601 button.colab-df-convert');\n",
              "        buttonEl.style.display =\n",
              "          google.colab.kernel.accessAllowed ? 'block' : 'none';\n",
              "\n",
              "        async function convertToInteractive(key) {\n",
              "          const element = document.querySelector('#df-36c9aff3-ff5f-4707-9a20-9a8e638d6601');\n",
              "          const dataTable =\n",
              "            await google.colab.kernel.invokeFunction('convertToInteractive',\n",
              "                                                     [key], {});\n",
              "          if (!dataTable) return;\n",
              "\n",
              "          const docLinkHtml = 'Like what you see? Visit the ' +\n",
              "            '<a target=\"_blank\" href=https://colab.research.google.com/notebooks/data_table.ipynb>data table notebook</a>'\n",
              "            + ' to learn more about interactive tables.';\n",
              "          element.innerHTML = '';\n",
              "          dataTable['output_type'] = 'display_data';\n",
              "          await google.colab.output.renderOutput(dataTable, element);\n",
              "          const docLink = document.createElement('div');\n",
              "          docLink.innerHTML = docLinkHtml;\n",
              "          element.appendChild(docLink);\n",
              "        }\n",
              "      </script>\n",
              "    </div>\n",
              "  </div>\n",
              "  "
            ]
          },
          "metadata": {},
          "execution_count": 21
        }
      ]
    },
    {
      "cell_type": "code",
      "metadata": {
        "id": "SejcfAlJJ_qE",
        "outputId": "34179f69-1c0e-4caf-b10b-6431b9added5",
        "colab": {
          "base_uri": "https://localhost:8080/",
          "height": 546
        }
      },
      "source": [
        "from collections import deque\n",
        "items = deque(np.asarray(fft_df['absolute'].tolist()))\n",
        "items.rotate(int(np.floor(len(fft_df)/2)))\n",
        "plt.figure(figsize=(10, 7), dpi=80)\n",
        "plt.stem(items)\n",
        "plt.title('Figure 4: Components of Fourier transforms')\n",
        "plt.show()"
      ],
      "execution_count": 22,
      "outputs": [
        {
          "output_type": "stream",
          "name": "stderr",
          "text": [
            "/usr/local/lib/python3.7/dist-packages/ipykernel_launcher.py:5: UserWarning: In Matplotlib 3.3 individual lines on a stem plot will be added as a LineCollection instead of individual lines. This significantly improves the performance of a stem plot. To remove this warning and switch to the new behaviour, set the \"use_line_collection\" keyword argument to True.\n",
            "  \"\"\"\n"
          ]
        },
        {
          "output_type": "display_data",
          "data": {
            "text/plain": [
              "<Figure size 800x560 with 1 Axes>"
            ],
            "image/png": "[encoded data removed]"
          },
          "metadata": {
            "needs_background": "light"
          }
        }
      ]
    },
    {
      "cell_type": "markdown",
      "metadata": {
        "id": "hnlVxuAmGF2l"
      },
      "source": [
        "**Component analysis of Fourier Transform**\n",
        "**Once the spectral part of Fourier transform is removed the magnitude part is quite close to the test series values!** \n",
        "**Fourier transform is working!**"
      ]
    },
    {
      "cell_type": "markdown",
      "metadata": {
        "id": "awn3X9zu_sQy"
      },
      "source": [
        "# **ARIMA**"
      ]
    },
    {
      "cell_type": "markdown",
      "metadata": {
        "id": "FyNX3BWLKQ5W"
      },
      "source": [
        " **ARIMA as a feature:**\n",
        "   \n",
        " **Autoregressive Integrated Moving Average (ARIMA) — This was one of the most popular techniques for predicting future values of time series data (in the pre-neural networks ages). Let’s add it and see if it comes off as an important predictive feature.**\n",
        "   \n",
        "  **ARIMA is a technique for predicting time series data. We will show how to use it, and all though ARIMA will not serve as our final prediction, we will use it as a technique to denoise the stock a little and to (possibly) extract some new patters or features.**\n",
        "  \n",
        "  **ARIMA is an acronym. This acronym is descriptive, capturing the key aspects of the model itself. Briefly, they are:**\n",
        "\n",
        "\n",
        "\n",
        "\n",
        "\n",
        "\n",
        "\n"
      ]
    },
    {
      "cell_type": "code",
      "metadata": {
        "id": "y-pnaN4iKUNV",
        "colab": {
          "base_uri": "https://localhost:8080/"
        },
        "outputId": "f2d008d9-79cd-4c9e-d9b9-78fde39fb2f3"
      },
      "source": [
        "from statsmodels.tsa.arima_model import ARIMA\n",
        "from pandas import DataFrame\n",
        "from pandas import datetime\n",
        "\n",
        "series = data_FT['Close']\n",
        "model = ARIMA(series, order=(5, 1, 0))\n",
        "model_fit = model.fit(disp=0)\n",
        "print(model_fit.summary())\n"
      ],
      "execution_count": 23,
      "outputs": [
        {
          "output_type": "stream",
          "name": "stderr",
          "text": [
            "/usr/local/lib/python3.7/dist-packages/statsmodels/tools/_testing.py:19: FutureWarning: pandas.util.testing is deprecated. Use the functions in the public API at pandas.testing instead.\n",
            "  import pandas.util.testing as tm\n",
            "/usr/local/lib/python3.7/dist-packages/ipykernel_launcher.py:3: FutureWarning: The pandas.datetime class is deprecated and will be removed from pandas in a future version. Import from datetime module instead.\n",
            "  This is separate from the ipykernel package so we can avoid doing imports until\n"
          ]
        },
        {
          "output_type": "stream",
          "name": "stdout",
          "text": [
            "                             ARIMA Model Results                              \n",
            "==============================================================================\n",
            "Dep. Variable:                D.Close   No. Observations:                 6281\n",
            "Model:                 ARIMA(5, 1, 0)   Log Likelihood              -28379.150\n",
            "Method:                       css-mle   S.D. of innovations             22.183\n",
            "Date:                Mon, 02 May 2022   AIC                          56772.300\n",
            "Time:                        13:29:40   BIC                          56819.517\n",
            "Sample:                             1   HQIC                         56788.660\n",
            "                                                                              \n",
            "=================================================================================\n",
            "                    coef    std err          z      P>|z|      [0.025      0.975]\n",
            "---------------------------------------------------------------------------------\n",
            "const             0.3997      0.257      1.554      0.120      -0.104       0.904\n",
            "ar.L1.D.Close    -0.0406      0.013     -3.129      0.002      -0.066      -0.015\n",
            "ar.L2.D.Close    -0.0088      0.013     -0.678      0.498      -0.034       0.017\n",
            "ar.L3.D.Close    -0.0490      0.013     -3.773      0.000      -0.074      -0.024\n",
            "ar.L4.D.Close     0.0169      0.013      1.292      0.196      -0.009       0.042\n",
            "ar.L5.D.Close    -0.0065      0.013     -0.502      0.616      -0.032       0.019\n",
            "                                    Roots                                    \n",
            "=============================================================================\n",
            "                  Real          Imaginary           Modulus         Frequency\n",
            "-----------------------------------------------------------------------------\n",
            "AR.1           -2.0482           -0.0000j            2.0482           -0.5000\n",
            "AR.2           -0.0596           -2.6999j            2.7005           -0.2535\n",
            "AR.3           -0.0596           +2.6999j            2.7005            0.2535\n",
            "AR.4            2.3713           -2.1445j            3.1971           -0.1170\n",
            "AR.5            2.3713           +2.1445j            3.1971            0.1170\n",
            "-----------------------------------------------------------------------------\n"
          ]
        }
      ]
    },
    {
      "cell_type": "markdown",
      "metadata": {
        "id": "fsUppGk6HY6m"
      },
      "source": [
        " **SUMMARY OF THE ARIMA MODEL**\n",
        " \n",
        "A good starting point for the AR parameter of the model may be 5.\n",
        "\n",
        "From the summary of the ARIMA we can see that most P-values are greater than 0.05 other than the last two.The model should be great!\n",
        "\n",
        "The difference between AIC and BIC is low so this indicates this is a good model\n",
        "\n",
        "Running the example, we can see that there is a positive correlation with the first 0-to-500 lags that is perhaps significant for the first 250 lags in the autocorrelation below\n",
        "\n"
      ]
    },
    {
      "cell_type": "code",
      "metadata": {
        "id": "NuucJ1WqKMkR",
        "colab": {
          "base_uri": "https://localhost:8080/",
          "height": 301
        },
        "outputId": "4ab5e7ca-935a-41cc-96b5-14150fa10938"
      },
      "source": [
        "from pandas.plotting import autocorrelation_plot\n",
        "autocorrelation_plot(series)\n",
        "plt.figure(figsize=(10, 7), dpi=80)\n",
        "plt.show()"
      ],
      "execution_count": 24,
      "outputs": [
        {
          "output_type": "display_data",
          "data": {
            "text/plain": [
              "<Figure size 432x288 with 1 Axes>"
            ],
            "image/png": "[encoded data removed]"
          },
          "metadata": {
            "needs_background": "light"
          }
        },
        {
          "output_type": "display_data",
          "data": {
            "text/plain": [
              "<Figure size 800x560 with 0 Axes>"
            ]
          },
          "metadata": {}
        }
      ]
    },
    {
      "cell_type": "code",
      "metadata": {
        "id": "Okfv_vp_KabM",
        "colab": {
          "base_uri": "https://localhost:8080/"
        },
        "outputId": "e43a188c-4171-4f80-ab29-312b849ba9d9"
      },
      "source": [
        "from pandas import read_csv\n",
        "from pandas import datetime\n",
        "from pandas import DataFrame\n",
        "from statsmodels.tsa.arima_model import ARIMA\n",
        "from sklearn.metrics import mean_squared_error\n",
        "\n",
        "X = series.values\n",
        "size = int(len(X) * 0.66)\n",
        "train, test = X[0:size], X[size:len(X)]\n",
        "history = [x for x in train]\n",
        "predictions = list()\n",
        "for t in range(len(test)):\n",
        "    model = ARIMA(history, order=(5,1,0))\n",
        "    model_fit = model.fit(disp=0)\n",
        "    output = model_fit.forecast()\n",
        "    yhat = output[0]\n",
        "    predictions.append(yhat)\n",
        "    obs = test[t]\n",
        "    history.append(obs)\n",
        "\n",
        "dataset_TI_df['ARIMA'] = pd.DataFrame(predictions)"
      ],
      "execution_count": 25,
      "outputs": [
        {
          "output_type": "stream",
          "name": "stderr",
          "text": [
            "/usr/local/lib/python3.7/dist-packages/ipykernel_launcher.py:2: FutureWarning: The pandas.datetime class is deprecated and will be removed from pandas in a future version. Import from datetime module instead.\n",
            "  \n",
            "/usr/local/lib/python3.7/dist-packages/statsmodels/base/model.py:512: ConvergenceWarning: Maximum Likelihood optimization failed to converge. Check mle_retvals\n",
            "  \"Check mle_retvals\", ConvergenceWarning)\n"
          ]
        }
      ]
    },
    {
      "cell_type": "code",
      "metadata": {
        "id": "DC3et1Z8KhL3",
        "colab": {
          "base_uri": "https://localhost:8080/"
        },
        "outputId": "4392e633-c113-48d5-c3f5-d8fcbfda013a"
      },
      "source": [
        "error = mean_squared_error(test, predictions)\n",
        "print('Test MSE: %.3f' % error)"
      ],
      "execution_count": 26,
      "outputs": [
        {
          "output_type": "stream",
          "name": "stdout",
          "text": [
            "Test MSE: 1458.413\n"
          ]
        }
      ]
    },
    {
      "cell_type": "markdown",
      "metadata": {
        "id": "GJcsXpEndQa8"
      },
      "source": [
        "MSE issquare root of square of average of difference between actual and predicted prices. In this case they MSE is quite big.(MSE ideally for this data should be between 30 and 100). However I will plot the model and check"
      ]
    },
    {
      "cell_type": "code",
      "metadata": {
        "id": "q00FzNdSLuPB",
        "colab": {
          "base_uri": "https://localhost:8080/",
          "height": 555
        },
        "outputId": "b379bdc2-b31b-40bd-8151-2a9f80258427"
      },
      "source": [
        "# Plot the predicted (from ARIMA) and real prices\n",
        "\n",
        "plt.figure(figsize=(12, 6), dpi=100)\n",
        "plt.plot(test, color='red', label='Real')\n",
        "plt.plot(predictions, color='blue', label='Predicted')\n",
        "plt.xlabel('Days')\n",
        "plt.ylabel('USD')\n",
        "plt.title('Figure 5: ARIMA model on Amazon stock')\n",
        "plt.legend()\n",
        "plt.show()"
      ],
      "execution_count": 27,
      "outputs": [
        {
          "output_type": "display_data",
          "data": {
            "text/plain": [
              "<Figure size 1200x600 with 1 Axes>"
            ],
            "image/png": "[encoded data removed]"
          },
          "metadata": {
            "needs_background": "light"
          }
        }
      ]
    },
    {
      "cell_type": "markdown",
      "metadata": {
        "id": "SD9T8ykVHqvJ"
      },
      "source": [
        "**As we can see from Figure 5 ARIMA gives a very good approximation of the real stock price. We will use the predicted price through ARIMA as an input feature into the LSTM because, as we mentioned before, we want to capture as many features and patterns about Amazon as possible.**"
      ]
    },
    {
      "cell_type": "code",
      "metadata": {
        "id": "3RN-h8RCLyoa",
        "colab": {
          "base_uri": "https://localhost:8080/",
          "height": 520
        },
        "outputId": "53bcd89e-4396-40ca-ed16-1edb567cb0a2"
      },
      "source": [
        "hist_data.head(8)"
      ],
      "execution_count": 29,
      "outputs": [
        {
          "output_type": "execute_result",
          "data": {
            "text/plain": [
              "        Date      Open      High       Low     Close    Volume  Dividends  \\\n",
              "0 1997-05-15  2.437500  2.500000  1.927083  1.958333  72156000          0   \n",
              "1 1997-05-16  1.968750  1.979167  1.708333  1.729167  14700000          0   \n",
              "2 1997-05-19  1.760417  1.770833  1.625000  1.708333   6106800          0   \n",
              "3 1997-05-20  1.729167  1.750000  1.635417  1.635417   5467200          0   \n",
              "4 1997-05-21  1.635417  1.645833  1.375000  1.427083  18853200          0   \n",
              "5 1997-05-22  1.437500  1.447917  1.312500  1.395833  11776800          0   \n",
              "6 1997-05-23  1.406250  1.520833  1.333333  1.500000  15937200          0   \n",
              "7 1997-05-27  1.510417  1.645833  1.458333  1.583333   8697600          0   \n",
              "\n",
              "   Stock Splits       ma7  ma21     26ema     12ema      MACD  20sd  \\\n",
              "0           0.0       NaN   NaN  1.958333  1.958333  0.000000   NaN   \n",
              "1           0.0       NaN   NaN  1.839343  1.834201 -0.005142   NaN   \n",
              "2           0.0       NaN   NaN  1.792272  1.785075 -0.007197   NaN   \n",
              "3           0.0       NaN   NaN  1.748422  1.737834 -0.010589   NaN   \n",
              "4           0.0       NaN   NaN  1.673903  1.653404 -0.020499   NaN   \n",
              "5           0.0       NaN   NaN  1.618207  1.590801 -0.027407   NaN   \n",
              "6           0.0  1.622024   NaN  1.597185  1.570539 -0.026646   NaN   \n",
              "7           0.0  1.568452   NaN  1.594953  1.573209 -0.021744   NaN   \n",
              "\n",
              "   upper_band  lower_band       ema  momentum   Fourier       ARIMA  \n",
              "0         NaN         NaN  1.958333 -0.980417  1.958333  359.141965  \n",
              "1         NaN         NaN  1.786458 -0.982708  1.729167  358.869856  \n",
              "2         NaN         NaN  1.732372 -0.982917  1.708333  356.390706  \n",
              "3         NaN         NaN  1.666927 -0.983646  1.635417  344.098722  \n",
              "4         NaN         NaN  1.506370 -0.985729  1.427083  350.867377  \n",
              "5         NaN         NaN  1.432578 -0.986042  1.395833  353.858650  \n",
              "6         NaN         NaN  1.477546 -0.985000  1.500000  349.871711  \n",
              "7         NaN         NaN  1.548082 -0.984167  1.583333  356.503773  "
            ],
            "text/html": [
              "\n",
              "  <div id=\"df-2b30d039-cdcf-4b92-bde6-e2fe92463d2b\">\n",
              "    <div class=\"colab-df-container\">\n",
              "      <div>\n",
              "<style scoped>\n",
              "    .dataframe tbody tr th:only-of-type {\n",
              "        vertical-align: middle;\n",
              "    }\n",
              "\n",
              "    .dataframe tbody tr th {\n",
              "        vertical-align: top;\n",
              "    }\n",
              "\n",
              "    .dataframe thead th {\n",
              "        text-align: right;\n",
              "    }\n",
              "</style>\n",
              "<table border=\"1\" class=\"dataframe\">\n",
              "  <thead>\n",
              "    <tr style=\"text-align: right;\">\n",
              "      <th></th>\n",
              "      <th>Date</th>\n",
              "      <th>Open</th>\n",
              "      <th>High</th>\n",
              "      <th>Low</th>\n",
              "      <th>Close</th>\n",
              "      <th>Volume</th>\n",
              "      <th>Dividends</th>\n",
              "      <th>Stock Splits</th>\n",
              "      <th>ma7</th>\n",
              "      <th>ma21</th>\n",
              "      <th>26ema</th>\n",
              "      <th>12ema</th>\n",
              "      <th>MACD</th>\n",
              "      <th>20sd</th>\n",
              "      <th>upper_band</th>\n",
              "      <th>lower_band</th>\n",
              "      <th>ema</th>\n",
              "      <th>momentum</th>\n",
              "      <th>Fourier</th>\n",
              "      <th>ARIMA</th>\n",
              "    </tr>\n",
              "  </thead>\n",
              "  <tbody>\n",
              "    <tr>\n",
              "      <th>0</th>\n",
              "      <td>1997-05-15</td>\n",
              "      <td>2.437500</td>\n",
              "      <td>2.500000</td>\n",
              "      <td>1.927083</td>\n",
              "      <td>1.958333</td>\n",
              "      <td>72156000</td>\n",
              "      <td>0</td>\n",
              "      <td>0.0</td>\n",
              "      <td>NaN</td>\n",
              "      <td>NaN</td>\n",
              "      <td>1.958333</td>\n",
              "      <td>1.958333</td>\n",
              "      <td>0.000000</td>\n",
              "      <td>NaN</td>\n",
              "      <td>NaN</td>\n",
              "      <td>NaN</td>\n",
              "      <td>1.958333</td>\n",
              "      <td>-0.980417</td>\n",
              "      <td>1.958333</td>\n",
              "      <td>359.141965</td>\n",
              "    </tr>\n",
              "    <tr>\n",
              "      <th>1</th>\n",
              "      <td>1997-05-16</td>\n",
              "      <td>1.968750</td>\n",
              "      <td>1.979167</td>\n",
              "      <td>1.708333</td>\n",
              "      <td>1.729167</td>\n",
              "      <td>14700000</td>\n",
              "      <td>0</td>\n",
              "      <td>0.0</td>\n",
              "      <td>NaN</td>\n",
              "      <td>NaN</td>\n",
              "      <td>1.839343</td>\n",
              "      <td>1.834201</td>\n",
              "      <td>-0.005142</td>\n",
              "      <td>NaN</td>\n",
              "      <td>NaN</td>\n",
              "      <td>NaN</td>\n",
              "      <td>1.786458</td>\n",
              "      <td>-0.982708</td>\n",
              "      <td>1.729167</td>\n",
              "      <td>358.869856</td>\n",
              "    </tr>\n",
              "    <tr>\n",
              "      <th>2</th>\n",
              "      <td>1997-05-19</td>\n",
              "      <td>1.760417</td>\n",
              "      <td>1.770833</td>\n",
              "      <td>1.625000</td>\n",
              "      <td>1.708333</td>\n",
              "      <td>6106800</td>\n",
              "      <td>0</td>\n",
              "      <td>0.0</td>\n",
              "      <td>NaN</td>\n",
              "      <td>NaN</td>\n",
              "      <td>1.792272</td>\n",
              "      <td>1.785075</td>\n",
              "      <td>-0.007197</td>\n",
              "      <td>NaN</td>\n",
              "      <td>NaN</td>\n",
              "      <td>NaN</td>\n",
              "      <td>1.732372</td>\n",
              "      <td>-0.982917</td>\n",
              "      <td>1.708333</td>\n",
              "      <td>356.390706</td>\n",
              "    </tr>\n",
              "    <tr>\n",
              "      <th>3</th>\n",
              "      <td>1997-05-20</td>\n",
              "      <td>1.729167</td>\n",
              "      <td>1.750000</td>\n",
              "      <td>1.635417</td>\n",
              "      <td>1.635417</td>\n",
              "      <td>5467200</td>\n",
              "      <td>0</td>\n",
              "      <td>0.0</td>\n",
              "      <td>NaN</td>\n",
              "      <td>NaN</td>\n",
              "      <td>1.748422</td>\n",
              "      <td>1.737834</td>\n",
              "      <td>-0.010589</td>\n",
              "      <td>NaN</td>\n",
              "      <td>NaN</td>\n",
              "      <td>NaN</td>\n",
              "      <td>1.666927</td>\n",
              "      <td>-0.983646</td>\n",
              "      <td>1.635417</td>\n",
              "      <td>344.098722</td>\n",
              "    </tr>\n",
              "    <tr>\n",
              "      <th>4</th>\n",
              "      <td>1997-05-21</td>\n",
              "      <td>1.635417</td>\n",
              "      <td>1.645833</td>\n",
              "      <td>1.375000</td>\n",
              "      <td>1.427083</td>\n",
              "      <td>18853200</td>\n",
              "      <td>0</td>\n",
              "      <td>0.0</td>\n",
              "      <td>NaN</td>\n",
              "      <td>NaN</td>\n",
              "      <td>1.673903</td>\n",
              "      <td>1.653404</td>\n",
              "      <td>-0.020499</td>\n",
              "      <td>NaN</td>\n",
              "      <td>NaN</td>\n",
              "      <td>NaN</td>\n",
              "      <td>1.506370</td>\n",
              "      <td>-0.985729</td>\n",
              "      <td>1.427083</td>\n",
              "      <td>350.867377</td>\n",
              "    </tr>\n",
              "    <tr>\n",
              "      <th>5</th>\n",
              "      <td>1997-05-22</td>\n",
              "      <td>1.437500</td>\n",
              "      <td>1.447917</td>\n",
              "      <td>1.312500</td>\n",
              "      <td>1.395833</td>\n",
              "      <td>11776800</td>\n",
              "      <td>0</td>\n",
              "      <td>0.0</td>\n",
              "      <td>NaN</td>\n",
              "      <td>NaN</td>\n",
              "      <td>1.618207</td>\n",
              "      <td>1.590801</td>\n",
              "      <td>-0.027407</td>\n",
              "      <td>NaN</td>\n",
              "      <td>NaN</td>\n",
              "      <td>NaN</td>\n",
              "      <td>1.432578</td>\n",
              "      <td>-0.986042</td>\n",
              "      <td>1.395833</td>\n",
              "      <td>353.858650</td>\n",
              "    </tr>\n",
              "    <tr>\n",
              "      <th>6</th>\n",
              "      <td>1997-05-23</td>\n",
              "      <td>1.406250</td>\n",
              "      <td>1.520833</td>\n",
              "      <td>1.333333</td>\n",
              "      <td>1.500000</td>\n",
              "      <td>15937200</td>\n",
              "      <td>0</td>\n",
              "      <td>0.0</td>\n",
              "      <td>1.622024</td>\n",
              "      <td>NaN</td>\n",
              "      <td>1.597185</td>\n",
              "      <td>1.570539</td>\n",
              "      <td>-0.026646</td>\n",
              "      <td>NaN</td>\n",
              "      <td>NaN</td>\n",
              "      <td>NaN</td>\n",
              "      <td>1.477546</td>\n",
              "      <td>-0.985000</td>\n",
              "      <td>1.500000</td>\n",
              "      <td>349.871711</td>\n",
              "    </tr>\n",
              "    <tr>\n",
              "      <th>7</th>\n",
              "      <td>1997-05-27</td>\n",
              "      <td>1.510417</td>\n",
              "      <td>1.645833</td>\n",
              "      <td>1.458333</td>\n",
              "      <td>1.583333</td>\n",
              "      <td>8697600</td>\n",
              "      <td>0</td>\n",
              "      <td>0.0</td>\n",
              "      <td>1.568452</td>\n",
              "      <td>NaN</td>\n",
              "      <td>1.594953</td>\n",
              "      <td>1.573209</td>\n",
              "      <td>-0.021744</td>\n",
              "      <td>NaN</td>\n",
              "      <td>NaN</td>\n",
              "      <td>NaN</td>\n",
              "      <td>1.548082</td>\n",
              "      <td>-0.984167</td>\n",
              "      <td>1.583333</td>\n",
              "      <td>356.503773</td>\n",
              "    </tr>\n",
              "  </tbody>\n",
              "</table>\n",
              "</div>\n",
              "      <button class=\"colab-df-convert\" onclick=\"convertToInteractive('df-2b30d039-cdcf-4b92-bde6-e2fe92463d2b')\"\n",
              "              title=\"Convert this dataframe to an interactive table.\"\n",
              "              style=\"display:none;\">\n",
              "        \n",
              "  <svg xmlns=\"http://www.w3.org/2000/svg\" height=\"24px\"viewBox=\"0 0 24 24\"\n",
              "       width=\"24px\">\n",
              "    <path d=\"M0 0h24v24H0V0z\" fill=\"none\"/>\n",
              "    <path d=\"M18.56 5.44l.94 2.06.94-2.06 2.06-.94-2.06-.94-.94-2.06-.94 2.06-2.06.94zm-11 1L8.5 8.5l.94-2.06 2.06-.94-2.06-.94L8.5 2.5l-.94 2.06-2.06.94zm10 10l.94 2.06.94-2.06 2.06-.94-2.06-.94-.94-2.06-.94 2.06-2.06.94z\"/><path d=\"M17.41 7.96l-1.37-1.37c-.4-.4-.92-.59-1.43-.59-.52 0-1.04.2-1.43.59L10.3 9.45l-7.72 7.72c-.78.78-.78 2.05 0 2.83L4 21.41c.39.39.9.59 1.41.59.51 0 1.02-.2 1.41-.59l7.78-7.78 2.81-2.81c.8-.78.8-2.07 0-2.86zM5.41 20L4 18.59l7.72-7.72 1.47 1.35L5.41 20z\"/>\n",
              "  </svg>\n",
              "      </button>\n",
              "      \n",
              "  <style>\n",
              "    .colab-df-container {\n",
              "      display:flex;\n",
              "      flex-wrap:wrap;\n",
              "      gap: 12px;\n",
              "    }\n",
              "\n",
              "    .colab-df-convert {\n",
              "      background-color: #E8F0FE;\n",
              "      border: none;\n",
              "      border-radius: 50%;\n",
              "      cursor: pointer;\n",
              "      display: none;\n",
              "      fill: #1967D2;\n",
              "      height: 32px;\n",
              "      padding: 0 0 0 0;\n",
              "      width: 32px;\n",
              "    }\n",
              "\n",
              "    .colab-df-convert:hover {\n",
              "      background-color: #E2EBFA;\n",
              "      box-shadow: 0px 1px 2px rgba(60, 64, 67, 0.3), 0px 1px 3px 1px rgba(60, 64, 67, 0.15);\n",
              "      fill: #174EA6;\n",
              "    }\n",
              "\n",
              "    [theme=dark] .colab-df-convert {\n",
              "      background-color: #3B4455;\n",
              "      fill: #D2E3FC;\n",
              "    }\n",
              "\n",
              "    [theme=dark] .colab-df-convert:hover {\n",
              "      background-color: #434B5C;\n",
              "      box-shadow: 0px 1px 3px 1px rgba(0, 0, 0, 0.15);\n",
              "      filter: drop-shadow(0px 1px 2px rgba(0, 0, 0, 0.3));\n",
              "      fill: #FFFFFF;\n",
              "    }\n",
              "  </style>\n",
              "\n",
              "      <script>\n",
              "        const buttonEl =\n",
              "          document.querySelector('#df-2b30d039-cdcf-4b92-bde6-e2fe92463d2b button.colab-df-convert');\n",
              "        buttonEl.style.display =\n",
              "          google.colab.kernel.accessAllowed ? 'block' : 'none';\n",
              "\n",
              "        async function convertToInteractive(key) {\n",
              "          const element = document.querySelector('#df-2b30d039-cdcf-4b92-bde6-e2fe92463d2b');\n",
              "          const dataTable =\n",
              "            await google.colab.kernel.invokeFunction('convertToInteractive',\n",
              "                                                     [key], {});\n",
              "          if (!dataTable) return;\n",
              "\n",
              "          const docLinkHtml = 'Like what you see? Visit the ' +\n",
              "            '<a target=\"_blank\" href=https://colab.research.google.com/notebooks/data_table.ipynb>data table notebook</a>'\n",
              "            + ' to learn more about interactive tables.';\n",
              "          element.innerHTML = '';\n",
              "          dataTable['output_type'] = 'display_data';\n",
              "          await google.colab.output.renderOutput(dataTable, element);\n",
              "          const docLink = document.createElement('div');\n",
              "          docLink.innerHTML = docLinkHtml;\n",
              "          element.appendChild(docLink);\n",
              "        }\n",
              "      </script>\n",
              "    </div>\n",
              "  </div>\n",
              "  "
            ]
          },
          "metadata": {},
          "execution_count": 29
        }
      ]
    },
    {
      "cell_type": "code",
      "metadata": {
        "id": "lUk-WoQNL2mX",
        "colab": {
          "base_uri": "https://localhost:8080/"
        },
        "outputId": "2c4696d2-c19e-4dec-b62c-5c77b7da6a4e"
      },
      "source": [
        "print('Total dataset has {} samples, and {} features.'.format(hist_data.shape[0], \\\n",
        "                                                              hist_data.shape[1]))"
      ],
      "execution_count": 30,
      "outputs": [
        {
          "output_type": "stream",
          "name": "stdout",
          "text": [
            "Total dataset has 6282 samples, and 20 features.\n"
          ]
        }
      ]
    },
    {
      "cell_type": "markdown",
      "metadata": {
        "id": "WcgZYHjdJCI1"
      },
      "source": [
        "# **FINDING IMPORTANT FEATURES USING XGBOOST :**"
      ]
    },
    {
      "cell_type": "code",
      "metadata": {
        "id": "0DntZYGaL6ct"
      },
      "source": [
        "def get_feature_importance_data(data_income):\n",
        "    data = data_income.copy()\n",
        "    y = data['Close']\n",
        "    X = data.iloc[:,1:19]\n",
        "    \n",
        "    train_samples = int(X.shape[0] * 0.65)\n",
        " \n",
        "    X_train = X.iloc[:train_samples]\n",
        "    X_test = X.iloc[train_samples:]\n",
        "\n",
        "    y_train = y.iloc[:train_samples]\n",
        "    y_test = y.iloc[train_samples:]\n",
        "    \n",
        "    return (X_train, y_train), (X_test, y_test)"
      ],
      "execution_count": 31,
      "outputs": []
    },
    {
      "cell_type": "code",
      "metadata": {
        "id": "JbO2whZDMCnB"
      },
      "source": [
        "# Get training and test data\n",
        "(X_train_FI, y_train_FI), (X_test_FI, y_test_FI) = get_feature_importance_data(dataset_TI_df)\n"
      ],
      "execution_count": 32,
      "outputs": []
    },
    {
      "cell_type": "code",
      "metadata": {
        "id": "6713TYO_MG5q"
      },
      "source": [
        "regressor = xgb.XGBRegressor(gamma=0.0,n_estimators=200,base_score=0.7,colsample_bytree=1,learning_rate=0.05)"
      ],
      "execution_count": 33,
      "outputs": []
    },
    {
      "cell_type": "code",
      "metadata": {
        "id": "1L80xmtDMJT3",
        "colab": {
          "base_uri": "https://localhost:8080/"
        },
        "outputId": "ed424f9e-11ce-427d-ab72-849aace72ec6"
      },
      "source": [
        "xgbModel = regressor.fit(X_train_FI,y_train_FI, \\\n",
        "                         eval_set = [(X_train_FI, y_train_FI), (X_test_FI, y_test_FI)], \\\n",
        "                         verbose=False)"
      ],
      "execution_count": 34,
      "outputs": [
        {
          "output_type": "stream",
          "name": "stdout",
          "text": [
            "[13:43:23] WARNING: /workspace/src/objective/regression_obj.cu:152: reg:linear is now deprecated in favor of reg:squarederror.\n"
          ]
        }
      ]
    },
    {
      "cell_type": "code",
      "metadata": {
        "id": "IJrFL2AnMMBy"
      },
      "source": [
        "eval_result = regressor.evals_result()"
      ],
      "execution_count": 35,
      "outputs": []
    },
    {
      "cell_type": "code",
      "metadata": {
        "id": "c-TjzmQqMRBW"
      },
      "source": [
        "training_rounds = range(len(eval_result['validation_0']['rmse']))"
      ],
      "execution_count": 36,
      "outputs": []
    },
    {
      "cell_type": "code",
      "metadata": {
        "id": "SohU7-lPMTou",
        "colab": {
          "base_uri": "https://localhost:8080/",
          "height": 295
        },
        "outputId": "f0e1d953-2c89-445e-feaf-14c2d62c0aea"
      },
      "source": [
        "plt.scatter(x=training_rounds,y=eval_result['validation_0']['rmse'],label='Training Error')\n",
        "plt.scatter(x=training_rounds,y=eval_result['validation_1']['rmse'],label='Validation Error')\n",
        "plt.xlabel('Iterations')\n",
        "plt.ylabel('RMSE')\n",
        "plt.title('Training Vs Validation Error')\n",
        "plt.legend()\n",
        "plt.show()"
      ],
      "execution_count": 37,
      "outputs": [
        {
          "output_type": "display_data",
          "data": {
            "text/plain": [
              "<Figure size 432x288 with 1 Axes>"
            ],
            "image/png": "[encoded data removed]"
          },
          "metadata": {
            "needs_background": "light"
          }
        }
      ]
    },
    {
      "cell_type": "markdown",
      "metadata": {
        "id": "kYixeciceYEg"
      },
      "source": [
        "**THE DIFFERENCE BETWEEN VALIDATION AND TRAINING ERROR SHOWS A UNDERFIT MODEL. EXPECTED AS SAID BEFORE BECAUSE OF THE WAY TRAINING AND TESTING DATA IS SPLIT JUST WHEN AMAZON BOOMS!**"
      ]
    },
    {
      "cell_type": "code",
      "metadata": {
        "id": "U6LISsSkMWat",
        "colab": {
          "base_uri": "https://localhost:8080/",
          "height": 548
        },
        "outputId": "ce3e8ef1-3d3d-4b9b-af31-cbd01c370ebc"
      },
      "source": [
        "fig = plt.figure(figsize=(8,8))\n",
        "plt.xticks(rotation='vertical')\n",
        "plt.bar([i for i in range(len(xgbModel.feature_importances_))], xgbModel.feature_importances_.tolist(), tick_label=X_test_FI.columns)\n",
        "plt.title('Figure 6: Feature importance of the technical indicators.')\n",
        "plt.show()"
      ],
      "execution_count": 38,
      "outputs": [
        {
          "output_type": "display_data",
          "data": {
            "text/plain": [
              "<Figure size 576x576 with 1 Axes>"
            ],
            "image/png": "[encoded data removed]"
          },
          "metadata": {
            "needs_background": "light"
          }
        }
      ]
    },
    {
      "cell_type": "markdown",
      "metadata": {
        "id": "-2dlboKLMowU"
      },
      "source": [
        "Next steps:\n",
        "We know which features are important. I suspect Fourier and ARIMA might be equally important but because of their\n",
        "spectral component Fourier and because ARIMA doesn't produce any other features I won't be consideringthem."
      ]
    },
    {
      "cell_type": "markdown",
      "metadata": {
        "id": "xKqOo5rfNM6_"
      },
      "source": [
        "# **LSTM**"
      ]
    },
    {
      "cell_type": "markdown",
      "metadata": {
        "id": "9vlHf2osb7LE"
      },
      "source": [
        "**LSTM is great at predicting stock market data. We are going to try to predict the closing prices using 1 feature Open(It has highest correlation to closing price) initially and then using multiple features(use some sort of one hot encoding) and then try to get a output.**\n",
        "\n",
        "**An LSTM Network has its origin in a RNN. But it can solve the memory loss by changing the neuron architecture.**\n",
        "\n"
      ]
    },
    {
      "cell_type": "code",
      "metadata": {
        "id": "S6ylerVkNzKh",
        "colab": {
          "base_uri": "https://localhost:8080/",
          "height": 350
        },
        "outputId": "01f6e01f-7470-4041-eb14-a1885ebb2fa5"
      },
      "source": [
        "#1. take dataframe and drop na\n",
        "dataset_lstm_df = dataset_TI_df.drop(columns='Date')\n",
        "dataset_lstm_df.head(7)"
      ],
      "execution_count": 39,
      "outputs": [
        {
          "output_type": "execute_result",
          "data": {
            "text/plain": [
              "       Open      High       Low     Close    Volume  Dividends  Stock Splits  \\\n",
              "0  2.437500  2.500000  1.927083  1.958333  72156000          0           0.0   \n",
              "1  1.968750  1.979167  1.708333  1.729167  14700000          0           0.0   \n",
              "2  1.760417  1.770833  1.625000  1.708333   6106800          0           0.0   \n",
              "3  1.729167  1.750000  1.635417  1.635417   5467200          0           0.0   \n",
              "4  1.635417  1.645833  1.375000  1.427083  18853200          0           0.0   \n",
              "5  1.437500  1.447917  1.312500  1.395833  11776800          0           0.0   \n",
              "6  1.406250  1.520833  1.333333  1.500000  15937200          0           0.0   \n",
              "\n",
              "        ma7  ma21     26ema     12ema      MACD  20sd  upper_band  lower_band  \\\n",
              "0       NaN   NaN  1.958333  1.958333  0.000000   NaN         NaN         NaN   \n",
              "1       NaN   NaN  1.839343  1.834201 -0.005142   NaN         NaN         NaN   \n",
              "2       NaN   NaN  1.792272  1.785075 -0.007197   NaN         NaN         NaN   \n",
              "3       NaN   NaN  1.748422  1.737834 -0.010589   NaN         NaN         NaN   \n",
              "4       NaN   NaN  1.673903  1.653404 -0.020499   NaN         NaN         NaN   \n",
              "5       NaN   NaN  1.618207  1.590801 -0.027407   NaN         NaN         NaN   \n",
              "6  1.622024   NaN  1.597185  1.570539 -0.026646   NaN         NaN         NaN   \n",
              "\n",
              "        ema  momentum   Fourier       ARIMA  \n",
              "0  1.958333 -0.980417  1.958333  359.141965  \n",
              "1  1.786458 -0.982708  1.729167  358.869856  \n",
              "2  1.732372 -0.982917  1.708333  356.390706  \n",
              "3  1.666927 -0.983646  1.635417  344.098722  \n",
              "4  1.506370 -0.985729  1.427083  350.867377  \n",
              "5  1.432578 -0.986042  1.395833  353.858650  \n",
              "6  1.477546 -0.985000  1.500000  349.871711  "
            ],
            "text/html": [
              "\n",
              "  <div id=\"df-29c991ea-b9fb-463b-808d-c55b9a6df678\">\n",
              "    <div class=\"colab-df-container\">\n",
              "      <div>\n",
              "<style scoped>\n",
              "    .dataframe tbody tr th:only-of-type {\n",
              "        vertical-align: middle;\n",
              "    }\n",
              "\n",
              "    .dataframe tbody tr th {\n",
              "        vertical-align: top;\n",
              "    }\n",
              "\n",
              "    .dataframe thead th {\n",
              "        text-align: right;\n",
              "    }\n",
              "</style>\n",
              "<table border=\"1\" class=\"dataframe\">\n",
              "  <thead>\n",
              "    <tr style=\"text-align: right;\">\n",
              "      <th></th>\n",
              "      <th>Open</th>\n",
              "      <th>High</th>\n",
              "      <th>Low</th>\n",
              "      <th>Close</th>\n",
              "      <th>Volume</th>\n",
              "      <th>Dividends</th>\n",
              "      <th>Stock Splits</th>\n",
              "      <th>ma7</th>\n",
              "      <th>ma21</th>\n",
              "      <th>26ema</th>\n",
              "      <th>12ema</th>\n",
              "      <th>MACD</th>\n",
              "      <th>20sd</th>\n",
              "      <th>upper_band</th>\n",
              "      <th>lower_band</th>\n",
              "      <th>ema</th>\n",
              "      <th>momentum</th>\n",
              "      <th>Fourier</th>\n",
              "      <th>ARIMA</th>\n",
              "    </tr>\n",
              "  </thead>\n",
              "  <tbody>\n",
              "    <tr>\n",
              "      <th>0</th>\n",
              "      <td>2.437500</td>\n",
              "      <td>2.500000</td>\n",
              "      <td>1.927083</td>\n",
              "      <td>1.958333</td>\n",
              "      <td>72156000</td>\n",
              "      <td>0</td>\n",
              "      <td>0.0</td>\n",
              "      <td>NaN</td>\n",
              "      <td>NaN</td>\n",
              "      <td>1.958333</td>\n",
              "      <td>1.958333</td>\n",
              "      <td>0.000000</td>\n",
              "      <td>NaN</td>\n",
              "      <td>NaN</td>\n",
              "      <td>NaN</td>\n",
              "      <td>1.958333</td>\n",
              "      <td>-0.980417</td>\n",
              "      <td>1.958333</td>\n",
              "      <td>359.141965</td>\n",
              "    </tr>\n",
              "    <tr>\n",
              "      <th>1</th>\n",
              "      <td>1.968750</td>\n",
              "      <td>1.979167</td>\n",
              "      <td>1.708333</td>\n",
              "      <td>1.729167</td>\n",
              "      <td>14700000</td>\n",
              "      <td>0</td>\n",
              "      <td>0.0</td>\n",
              "      <td>NaN</td>\n",
              "      <td>NaN</td>\n",
              "      <td>1.839343</td>\n",
              "      <td>1.834201</td>\n",
              "      <td>-0.005142</td>\n",
              "      <td>NaN</td>\n",
              "      <td>NaN</td>\n",
              "      <td>NaN</td>\n",
              "      <td>1.786458</td>\n",
              "      <td>-0.982708</td>\n",
              "      <td>1.729167</td>\n",
              "      <td>358.869856</td>\n",
              "    </tr>\n",
              "    <tr>\n",
              "      <th>2</th>\n",
              "      <td>1.760417</td>\n",
              "      <td>1.770833</td>\n",
              "      <td>1.625000</td>\n",
              "      <td>1.708333</td>\n",
              "      <td>6106800</td>\n",
              "      <td>0</td>\n",
              "      <td>0.0</td>\n",
              "      <td>NaN</td>\n",
              "      <td>NaN</td>\n",
              "      <td>1.792272</td>\n",
              "      <td>1.785075</td>\n",
              "      <td>-0.007197</td>\n",
              "      <td>NaN</td>\n",
              "      <td>NaN</td>\n",
              "      <td>NaN</td>\n",
              "      <td>1.732372</td>\n",
              "      <td>-0.982917</td>\n",
              "      <td>1.708333</td>\n",
              "      <td>356.390706</td>\n",
              "    </tr>\n",
              "    <tr>\n",
              "      <th>3</th>\n",
              "      <td>1.729167</td>\n",
              "      <td>1.750000</td>\n",
              "      <td>1.635417</td>\n",
              "      <td>1.635417</td>\n",
              "      <td>5467200</td>\n",
              "      <td>0</td>\n",
              "      <td>0.0</td>\n",
              "      <td>NaN</td>\n",
              "      <td>NaN</td>\n",
              "      <td>1.748422</td>\n",
              "      <td>1.737834</td>\n",
              "      <td>-0.010589</td>\n",
              "      <td>NaN</td>\n",
              "      <td>NaN</td>\n",
              "      <td>NaN</td>\n",
              "      <td>1.666927</td>\n",
              "      <td>-0.983646</td>\n",
              "      <td>1.635417</td>\n",
              "      <td>344.098722</td>\n",
              "    </tr>\n",
              "    <tr>\n",
              "      <th>4</th>\n",
              "      <td>1.635417</td>\n",
              "      <td>1.645833</td>\n",
              "      <td>1.375000</td>\n",
              "      <td>1.427083</td>\n",
              "      <td>18853200</td>\n",
              "      <td>0</td>\n",
              "      <td>0.0</td>\n",
              "      <td>NaN</td>\n",
              "      <td>NaN</td>\n",
              "      <td>1.673903</td>\n",
              "      <td>1.653404</td>\n",
              "      <td>-0.020499</td>\n",
              "      <td>NaN</td>\n",
              "      <td>NaN</td>\n",
              "      <td>NaN</td>\n",
              "      <td>1.506370</td>\n",
              "      <td>-0.985729</td>\n",
              "      <td>1.427083</td>\n",
              "      <td>350.867377</td>\n",
              "    </tr>\n",
              "    <tr>\n",
              "      <th>5</th>\n",
              "      <td>1.437500</td>\n",
              "      <td>1.447917</td>\n",
              "      <td>1.312500</td>\n",
              "      <td>1.395833</td>\n",
              "      <td>11776800</td>\n",
              "      <td>0</td>\n",
              "      <td>0.0</td>\n",
              "      <td>NaN</td>\n",
              "      <td>NaN</td>\n",
              "      <td>1.618207</td>\n",
              "      <td>1.590801</td>\n",
              "      <td>-0.027407</td>\n",
              "      <td>NaN</td>\n",
              "      <td>NaN</td>\n",
              "      <td>NaN</td>\n",
              "      <td>1.432578</td>\n",
              "      <td>-0.986042</td>\n",
              "      <td>1.395833</td>\n",
              "      <td>353.858650</td>\n",
              "    </tr>\n",
              "    <tr>\n",
              "      <th>6</th>\n",
              "      <td>1.406250</td>\n",
              "      <td>1.520833</td>\n",
              "      <td>1.333333</td>\n",
              "      <td>1.500000</td>\n",
              "      <td>15937200</td>\n",
              "      <td>0</td>\n",
              "      <td>0.0</td>\n",
              "      <td>1.622024</td>\n",
              "      <td>NaN</td>\n",
              "      <td>1.597185</td>\n",
              "      <td>1.570539</td>\n",
              "      <td>-0.026646</td>\n",
              "      <td>NaN</td>\n",
              "      <td>NaN</td>\n",
              "      <td>NaN</td>\n",
              "      <td>1.477546</td>\n",
              "      <td>-0.985000</td>\n",
              "      <td>1.500000</td>\n",
              "      <td>349.871711</td>\n",
              "    </tr>\n",
              "  </tbody>\n",
              "</table>\n",
              "</div>\n",
              "      <button class=\"colab-df-convert\" onclick=\"convertToInteractive('df-29c991ea-b9fb-463b-808d-c55b9a6df678')\"\n",
              "              title=\"Convert this dataframe to an interactive table.\"\n",
              "              style=\"display:none;\">\n",
              "        \n",
              "  <svg xmlns=\"http://www.w3.org/2000/svg\" height=\"24px\"viewBox=\"0 0 24 24\"\n",
              "       width=\"24px\">\n",
              "    <path d=\"M0 0h24v24H0V0z\" fill=\"none\"/>\n",
              "    <path d=\"M18.56 5.44l.94 2.06.94-2.06 2.06-.94-2.06-.94-.94-2.06-.94 2.06-2.06.94zm-11 1L8.5 8.5l.94-2.06 2.06-.94-2.06-.94L8.5 2.5l-.94 2.06-2.06.94zm10 10l.94 2.06.94-2.06 2.06-.94-2.06-.94-.94-2.06-.94 2.06-2.06.94z\"/><path d=\"M17.41 7.96l-1.37-1.37c-.4-.4-.92-.59-1.43-.59-.52 0-1.04.2-1.43.59L10.3 9.45l-7.72 7.72c-.78.78-.78 2.05 0 2.83L4 21.41c.39.39.9.59 1.41.59.51 0 1.02-.2 1.41-.59l7.78-7.78 2.81-2.81c.8-.78.8-2.07 0-2.86zM5.41 20L4 18.59l7.72-7.72 1.47 1.35L5.41 20z\"/>\n",
              "  </svg>\n",
              "      </button>\n",
              "      \n",
              "  <style>\n",
              "    .colab-df-container {\n",
              "      display:flex;\n",
              "      flex-wrap:wrap;\n",
              "      gap: 12px;\n",
              "    }\n",
              "\n",
              "    .colab-df-convert {\n",
              "      background-color: #E8F0FE;\n",
              "      border: none;\n",
              "      border-radius: 50%;\n",
              "      cursor: pointer;\n",
              "      display: none;\n",
              "      fill: #1967D2;\n",
              "      height: 32px;\n",
              "      padding: 0 0 0 0;\n",
              "      width: 32px;\n",
              "    }\n",
              "\n",
              "    .colab-df-convert:hover {\n",
              "      background-color: #E2EBFA;\n",
              "      box-shadow: 0px 1px 2px rgba(60, 64, 67, 0.3), 0px 1px 3px 1px rgba(60, 64, 67, 0.15);\n",
              "      fill: #174EA6;\n",
              "    }\n",
              "\n",
              "    [theme=dark] .colab-df-convert {\n",
              "      background-color: #3B4455;\n",
              "      fill: #D2E3FC;\n",
              "    }\n",
              "\n",
              "    [theme=dark] .colab-df-convert:hover {\n",
              "      background-color: #434B5C;\n",
              "      box-shadow: 0px 1px 3px 1px rgba(0, 0, 0, 0.15);\n",
              "      filter: drop-shadow(0px 1px 2px rgba(0, 0, 0, 0.3));\n",
              "      fill: #FFFFFF;\n",
              "    }\n",
              "  </style>\n",
              "\n",
              "      <script>\n",
              "        const buttonEl =\n",
              "          document.querySelector('#df-29c991ea-b9fb-463b-808d-c55b9a6df678 button.colab-df-convert');\n",
              "        buttonEl.style.display =\n",
              "          google.colab.kernel.accessAllowed ? 'block' : 'none';\n",
              "\n",
              "        async function convertToInteractive(key) {\n",
              "          const element = document.querySelector('#df-29c991ea-b9fb-463b-808d-c55b9a6df678');\n",
              "          const dataTable =\n",
              "            await google.colab.kernel.invokeFunction('convertToInteractive',\n",
              "                                                     [key], {});\n",
              "          if (!dataTable) return;\n",
              "\n",
              "          const docLinkHtml = 'Like what you see? Visit the ' +\n",
              "            '<a target=\"_blank\" href=https://colab.research.google.com/notebooks/data_table.ipynb>data table notebook</a>'\n",
              "            + ' to learn more about interactive tables.';\n",
              "          element.innerHTML = '';\n",
              "          dataTable['output_type'] = 'display_data';\n",
              "          await google.colab.output.renderOutput(dataTable, element);\n",
              "          const docLink = document.createElement('div');\n",
              "          docLink.innerHTML = docLinkHtml;\n",
              "          element.appendChild(docLink);\n",
              "        }\n",
              "      </script>\n",
              "    </div>\n",
              "  </div>\n",
              "  "
            ]
          },
          "metadata": {},
          "execution_count": 39
        }
      ]
    },
    {
      "cell_type": "code",
      "metadata": {
        "id": "LN2zR8p2NR58",
        "colab": {
          "base_uri": "https://localhost:8080/"
        },
        "outputId": "055d3f8f-e03f-47ec-b705-c44034d5a4d5"
      },
      "source": [
        "print('Total dataset has {} samples, and {} features.'.format(dataset_lstm_df.shape[0], \\\n",
        "                                                              dataset_lstm_df.shape[1]))"
      ],
      "execution_count": 40,
      "outputs": [
        {
          "output_type": "stream",
          "name": "stdout",
          "text": [
            "Total dataset has 6282 samples, and 19 features.\n"
          ]
        }
      ]
    },
    {
      "cell_type": "code",
      "metadata": {
        "id": "4jspfamWQaXs"
      },
      "source": [
        "from keras.models import Sequential\n",
        "from keras.layers import Dense\n",
        "from keras.layers import LSTM\n",
        "from keras.layers import Dropout\n",
        "from keras.layers import Flatten"
      ],
      "execution_count": 41,
      "outputs": []
    },
    {
      "cell_type": "code",
      "metadata": {
        "id": "ZoEiTOswgpvE"
      },
      "source": [
        "#creating test, train and validate trains\n",
        "train, validate, test = np.split(dataset_lstm_df.sample(frac=1), [int(.6*len(dataset_lstm_df)), int(.8*len(dataset_lstm_df))])"
      ],
      "execution_count": 42,
      "outputs": []
    },
    {
      "cell_type": "markdown",
      "metadata": {
        "id": "9Xw3oUy5ghHW"
      },
      "source": [
        "**Split dataset into train,test and validate sets**"
      ]
    },
    {
      "cell_type": "code",
      "metadata": {
        "id": "S9J6B42cRFYy"
      },
      "source": [
        "open_training = train.iloc[:, 1:2].values"
      ],
      "execution_count": 43,
      "outputs": []
    },
    {
      "cell_type": "code",
      "metadata": {
        "id": "1Dik4lFzRJL-"
      },
      "source": [
        "#normalise\n",
        "from sklearn.preprocessing import MinMaxScaler\n",
        "scaler = MinMaxScaler(feature_range = (0, 1))\n",
        "open_training = scaler.fit_transform(open_training)\n",
        "#convert to right shape\n",
        "features_set_1 = []\n",
        "labels_1 = []\n",
        "for i in range(60,450): \n",
        "    features_set_1.append(open_training[i-60:i, 0])\n",
        "    labels_1.append(open_training[i, 0])\n"
      ],
      "execution_count": 44,
      "outputs": []
    },
    {
      "cell_type": "markdown",
      "metadata": {
        "id": "en50MEmiuIxV"
      },
      "source": [
        "**Convert feature set and label set into arrays and shape feature set into a 3D input that LSTM network demands**"
      ]
    },
    {
      "cell_type": "code",
      "metadata": {
        "id": "O2JRCdt8RMIb"
      },
      "source": [
        "features_set_1, labels_1 = np.array(features_set_1), np.array(labels_1)\n",
        "features_set_1 = np.reshape(features_set_1, (features_set_1.shape[0], features_set_1.shape[1], 1))"
      ],
      "execution_count": 45,
      "outputs": []
    },
    {
      "cell_type": "code",
      "metadata": {
        "id": "ShsX-jhtRPZr",
        "colab": {
          "base_uri": "https://localhost:8080/"
        },
        "outputId": "c84b713e-665b-40ca-a30f-ff2f2677d2f2"
      },
      "source": [
        "#training it\n",
        "model = Sequential()\n",
        "model.add(LSTM(units=50, return_sequences=True, input_shape=(features_set_1.shape[1],1)))\n",
        "model.add(Dropout(0.2))\n",
        "model.add(LSTM(units=50, return_sequences=True))\n",
        "model.add(Dropout(0.2))\n",
        "model.add(Flatten())\n",
        "model.add(Dense(units = 1))\n",
        "model.compile(optimizer = 'adam', loss = 'mean_squared_error', metrics = ['mean_absolute_error'])\n",
        "model.fit(features_set_1, labels_1, epochs = 100, batch_size = 32,validation_data = (features_set_1, labels_1))\n"
      ],
      "execution_count": 46,
      "outputs": [
        {
          "output_type": "stream",
          "name": "stdout",
          "text": [
            "Epoch 1/100\n",
            "13/13 [==============================] - 10s 181ms/step - loss: 0.0525 - mean_absolute_error: 0.1555 - val_loss: 0.0533 - val_mean_absolute_error: 0.1919\n",
            "Epoch 2/100\n",
            "13/13 [==============================] - 1s 56ms/step - loss: 0.0528 - mean_absolute_error: 0.1592 - val_loss: 0.0506 - val_mean_absolute_error: 0.1769\n",
            "Epoch 3/100\n",
            "13/13 [==============================] - 1s 45ms/step - loss: 0.0516 - mean_absolute_error: 0.1751 - val_loss: 0.0535 - val_mean_absolute_error: 0.1382\n",
            "Epoch 4/100\n",
            "13/13 [==============================] - 1s 53ms/step - loss: 0.0524 - mean_absolute_error: 0.1526 - val_loss: 0.0511 - val_mean_absolute_error: 0.1815\n",
            "Epoch 5/100\n",
            "13/13 [==============================] - 1s 51ms/step - loss: 0.0505 - mean_absolute_error: 0.1685 - val_loss: 0.0501 - val_mean_absolute_error: 0.1542\n",
            "Epoch 6/100\n",
            "13/13 [==============================] - 1s 41ms/step - loss: 0.0500 - mean_absolute_error: 0.1592 - val_loss: 0.0496 - val_mean_absolute_error: 0.1655\n",
            "Epoch 7/100\n",
            "13/13 [==============================] - 1s 41ms/step - loss: 0.0506 - mean_absolute_error: 0.1717 - val_loss: 0.0509 - val_mean_absolute_error: 0.1475\n",
            "Epoch 8/100\n",
            "13/13 [==============================] - 1s 41ms/step - loss: 0.0507 - mean_absolute_error: 0.1489 - val_loss: 0.0497 - val_mean_absolute_error: 0.1693\n",
            "Epoch 9/100\n",
            "13/13 [==============================] - 1s 41ms/step - loss: 0.0501 - mean_absolute_error: 0.1688 - val_loss: 0.0497 - val_mean_absolute_error: 0.1567\n",
            "Epoch 10/100\n",
            "13/13 [==============================] - 1s 41ms/step - loss: 0.0500 - mean_absolute_error: 0.1602 - val_loss: 0.0496 - val_mean_absolute_error: 0.1689\n",
            "Epoch 11/100\n",
            "13/13 [==============================] - 1s 41ms/step - loss: 0.0498 - mean_absolute_error: 0.1594 - val_loss: 0.0494 - val_mean_absolute_error: 0.1660\n",
            "Epoch 12/100\n",
            "13/13 [==============================] - 1s 41ms/step - loss: 0.0504 - mean_absolute_error: 0.1678 - val_loss: 0.0496 - val_mean_absolute_error: 0.1571\n",
            "Epoch 13/100\n",
            "13/13 [==============================] - 1s 41ms/step - loss: 0.0508 - mean_absolute_error: 0.1692 - val_loss: 0.0495 - val_mean_absolute_error: 0.1587\n",
            "Epoch 14/100\n",
            "13/13 [==============================] - 1s 41ms/step - loss: 0.0498 - mean_absolute_error: 0.1663 - val_loss: 0.0494 - val_mean_absolute_error: 0.1602\n",
            "Epoch 15/100\n",
            "13/13 [==============================] - 1s 40ms/step - loss: 0.0512 - mean_absolute_error: 0.1530 - val_loss: 0.0493 - val_mean_absolute_error: 0.1664\n",
            "Epoch 16/100\n",
            "13/13 [==============================] - 1s 42ms/step - loss: 0.0497 - mean_absolute_error: 0.1608 - val_loss: 0.0493 - val_mean_absolute_error: 0.1682\n",
            "Epoch 17/100\n",
            "13/13 [==============================] - 1s 41ms/step - loss: 0.0500 - mean_absolute_error: 0.1691 - val_loss: 0.0492 - val_mean_absolute_error: 0.1616\n",
            "Epoch 18/100\n",
            "13/13 [==============================] - 1s 41ms/step - loss: 0.0498 - mean_absolute_error: 0.1668 - val_loss: 0.0491 - val_mean_absolute_error: 0.1659\n",
            "Epoch 19/100\n",
            "13/13 [==============================] - 1s 41ms/step - loss: 0.0494 - mean_absolute_error: 0.1691 - val_loss: 0.0493 - val_mean_absolute_error: 0.1563\n",
            "Epoch 20/100\n",
            "13/13 [==============================] - 1s 41ms/step - loss: 0.0495 - mean_absolute_error: 0.1542 - val_loss: 0.0499 - val_mean_absolute_error: 0.1772\n",
            "Epoch 21/100\n",
            "13/13 [==============================] - 1s 40ms/step - loss: 0.0500 - mean_absolute_error: 0.1724 - val_loss: 0.0495 - val_mean_absolute_error: 0.1528\n",
            "Epoch 22/100\n",
            "13/13 [==============================] - 1s 41ms/step - loss: 0.0496 - mean_absolute_error: 0.1573 - val_loss: 0.0489 - val_mean_absolute_error: 0.1661\n",
            "Epoch 23/100\n",
            "13/13 [==============================] - 1s 40ms/step - loss: 0.0501 - mean_absolute_error: 0.1743 - val_loss: 0.0496 - val_mean_absolute_error: 0.1501\n",
            "Epoch 24/100\n",
            "13/13 [==============================] - 1s 41ms/step - loss: 0.0504 - mean_absolute_error: 0.1571 - val_loss: 0.0490 - val_mean_absolute_error: 0.1696\n",
            "Epoch 25/100\n",
            "13/13 [==============================] - 1s 41ms/step - loss: 0.0496 - mean_absolute_error: 0.1654 - val_loss: 0.0487 - val_mean_absolute_error: 0.1622\n",
            "Epoch 26/100\n",
            "13/13 [==============================] - 1s 41ms/step - loss: 0.0494 - mean_absolute_error: 0.1591 - val_loss: 0.0487 - val_mean_absolute_error: 0.1664\n",
            "Epoch 27/100\n",
            "13/13 [==============================] - 1s 41ms/step - loss: 0.0492 - mean_absolute_error: 0.1676 - val_loss: 0.0486 - val_mean_absolute_error: 0.1605\n",
            "Epoch 28/100\n",
            "13/13 [==============================] - 1s 41ms/step - loss: 0.0492 - mean_absolute_error: 0.1544 - val_loss: 0.0486 - val_mean_absolute_error: 0.1655\n",
            "Epoch 29/100\n",
            "13/13 [==============================] - 1s 41ms/step - loss: 0.0489 - mean_absolute_error: 0.1644 - val_loss: 0.0485 - val_mean_absolute_error: 0.1582\n",
            "Epoch 30/100\n",
            "13/13 [==============================] - 1s 42ms/step - loss: 0.0489 - mean_absolute_error: 0.1636 - val_loss: 0.0484 - val_mean_absolute_error: 0.1600\n",
            "Epoch 31/100\n",
            "13/13 [==============================] - 1s 41ms/step - loss: 0.0491 - mean_absolute_error: 0.1566 - val_loss: 0.0484 - val_mean_absolute_error: 0.1632\n",
            "Epoch 32/100\n",
            "13/13 [==============================] - 1s 41ms/step - loss: 0.0485 - mean_absolute_error: 0.1643 - val_loss: 0.0483 - val_mean_absolute_error: 0.1632\n",
            "Epoch 33/100\n",
            "13/13 [==============================] - 1s 41ms/step - loss: 0.0492 - mean_absolute_error: 0.1635 - val_loss: 0.0483 - val_mean_absolute_error: 0.1552\n",
            "Epoch 34/100\n",
            "13/13 [==============================] - 1s 41ms/step - loss: 0.0488 - mean_absolute_error: 0.1657 - val_loss: 0.0482 - val_mean_absolute_error: 0.1603\n",
            "Epoch 35/100\n",
            "13/13 [==============================] - 1s 41ms/step - loss: 0.0494 - mean_absolute_error: 0.1516 - val_loss: 0.0481 - val_mean_absolute_error: 0.1646\n",
            "Epoch 36/100\n",
            "13/13 [==============================] - 1s 41ms/step - loss: 0.0488 - mean_absolute_error: 0.1639 - val_loss: 0.0482 - val_mean_absolute_error: 0.1543\n",
            "Epoch 37/100\n",
            "13/13 [==============================] - 1s 41ms/step - loss: 0.0481 - mean_absolute_error: 0.1586 - val_loss: 0.0482 - val_mean_absolute_error: 0.1679\n",
            "Epoch 38/100\n",
            "13/13 [==============================] - 1s 42ms/step - loss: 0.0492 - mean_absolute_error: 0.1578 - val_loss: 0.0479 - val_mean_absolute_error: 0.1582\n",
            "Epoch 39/100\n",
            "13/13 [==============================] - 1s 41ms/step - loss: 0.0481 - mean_absolute_error: 0.1621 - val_loss: 0.0479 - val_mean_absolute_error: 0.1594\n",
            "Epoch 40/100\n",
            "13/13 [==============================] - 1s 41ms/step - loss: 0.0483 - mean_absolute_error: 0.1582 - val_loss: 0.0478 - val_mean_absolute_error: 0.1591\n",
            "Epoch 41/100\n",
            "13/13 [==============================] - 1s 41ms/step - loss: 0.0482 - mean_absolute_error: 0.1585 - val_loss: 0.0477 - val_mean_absolute_error: 0.1598\n",
            "Epoch 42/100\n",
            "13/13 [==============================] - 1s 41ms/step - loss: 0.0484 - mean_absolute_error: 0.1634 - val_loss: 0.0477 - val_mean_absolute_error: 0.1599\n",
            "Epoch 43/100\n",
            "13/13 [==============================] - 1s 41ms/step - loss: 0.0492 - mean_absolute_error: 0.1527 - val_loss: 0.0478 - val_mean_absolute_error: 0.1660\n",
            "Epoch 44/100\n",
            "13/13 [==============================] - 1s 42ms/step - loss: 0.0476 - mean_absolute_error: 0.1602 - val_loss: 0.0478 - val_mean_absolute_error: 0.1537\n",
            "Epoch 45/100\n",
            "13/13 [==============================] - 1s 42ms/step - loss: 0.0485 - mean_absolute_error: 0.1604 - val_loss: 0.0475 - val_mean_absolute_error: 0.1592\n",
            "Epoch 46/100\n",
            "13/13 [==============================] - 1s 42ms/step - loss: 0.0482 - mean_absolute_error: 0.1574 - val_loss: 0.0474 - val_mean_absolute_error: 0.1616\n",
            "Epoch 47/100\n",
            "13/13 [==============================] - 1s 42ms/step - loss: 0.0482 - mean_absolute_error: 0.1611 - val_loss: 0.0473 - val_mean_absolute_error: 0.1561\n",
            "Epoch 48/100\n",
            "13/13 [==============================] - 1s 41ms/step - loss: 0.0474 - mean_absolute_error: 0.1554 - val_loss: 0.0473 - val_mean_absolute_error: 0.1542\n",
            "Epoch 49/100\n",
            "13/13 [==============================] - 1s 41ms/step - loss: 0.0481 - mean_absolute_error: 0.1600 - val_loss: 0.0475 - val_mean_absolute_error: 0.1512\n",
            "Epoch 50/100\n",
            "13/13 [==============================] - 1s 40ms/step - loss: 0.0476 - mean_absolute_error: 0.1517 - val_loss: 0.0474 - val_mean_absolute_error: 0.1673\n",
            "Epoch 51/100\n",
            "13/13 [==============================] - 1s 42ms/step - loss: 0.0480 - mean_absolute_error: 0.1637 - val_loss: 0.0476 - val_mean_absolute_error: 0.1484\n",
            "Epoch 52/100\n",
            "13/13 [==============================] - 1s 41ms/step - loss: 0.0479 - mean_absolute_error: 0.1582 - val_loss: 0.0469 - val_mean_absolute_error: 0.1579\n",
            "Epoch 53/100\n",
            "13/13 [==============================] - 1s 42ms/step - loss: 0.0473 - mean_absolute_error: 0.1530 - val_loss: 0.0469 - val_mean_absolute_error: 0.1566\n",
            "Epoch 54/100\n",
            "13/13 [==============================] - 1s 41ms/step - loss: 0.0470 - mean_absolute_error: 0.1598 - val_loss: 0.0468 - val_mean_absolute_error: 0.1591\n",
            "Epoch 55/100\n",
            "13/13 [==============================] - 1s 41ms/step - loss: 0.0473 - mean_absolute_error: 0.1576 - val_loss: 0.0466 - val_mean_absolute_error: 0.1575\n",
            "Epoch 56/100\n",
            "13/13 [==============================] - 1s 41ms/step - loss: 0.0473 - mean_absolute_error: 0.1579 - val_loss: 0.0465 - val_mean_absolute_error: 0.1559\n",
            "Epoch 57/100\n",
            "13/13 [==============================] - 1s 41ms/step - loss: 0.0468 - mean_absolute_error: 0.1558 - val_loss: 0.0464 - val_mean_absolute_error: 0.1577\n",
            "Epoch 58/100\n",
            "13/13 [==============================] - 1s 41ms/step - loss: 0.0477 - mean_absolute_error: 0.1650 - val_loss: 0.0468 - val_mean_absolute_error: 0.1509\n",
            "Epoch 59/100\n",
            "13/13 [==============================] - 1s 42ms/step - loss: 0.0479 - mean_absolute_error: 0.1466 - val_loss: 0.0479 - val_mean_absolute_error: 0.1749\n",
            "Epoch 60/100\n",
            "13/13 [==============================] - 1s 41ms/step - loss: 0.0490 - mean_absolute_error: 0.1687 - val_loss: 0.0471 - val_mean_absolute_error: 0.1470\n",
            "Epoch 61/100\n",
            "13/13 [==============================] - 1s 59ms/step - loss: 0.0468 - mean_absolute_error: 0.1596 - val_loss: 0.0463 - val_mean_absolute_error: 0.1611\n",
            "Epoch 62/100\n",
            "13/13 [==============================] - 1s 54ms/step - loss: 0.0468 - mean_absolute_error: 0.1534 - val_loss: 0.0460 - val_mean_absolute_error: 0.1586\n",
            "Epoch 63/100\n",
            "13/13 [==============================] - 1s 50ms/step - loss: 0.0464 - mean_absolute_error: 0.1552 - val_loss: 0.0459 - val_mean_absolute_error: 0.1523\n",
            "Epoch 64/100\n",
            "13/13 [==============================] - 1s 51ms/step - loss: 0.0459 - mean_absolute_error: 0.1562 - val_loss: 0.0458 - val_mean_absolute_error: 0.1616\n",
            "Epoch 65/100\n",
            "13/13 [==============================] - 1s 51ms/step - loss: 0.0459 - mean_absolute_error: 0.1567 - val_loss: 0.0455 - val_mean_absolute_error: 0.1536\n",
            "Epoch 66/100\n",
            "13/13 [==============================] - 1s 52ms/step - loss: 0.0459 - mean_absolute_error: 0.1518 - val_loss: 0.0455 - val_mean_absolute_error: 0.1598\n",
            "Epoch 67/100\n",
            "13/13 [==============================] - 1s 50ms/step - loss: 0.0473 - mean_absolute_error: 0.1625 - val_loss: 0.0457 - val_mean_absolute_error: 0.1485\n",
            "Epoch 68/100\n",
            "13/13 [==============================] - 1s 51ms/step - loss: 0.0465 - mean_absolute_error: 0.1551 - val_loss: 0.0451 - val_mean_absolute_error: 0.1559\n",
            "Epoch 69/100\n",
            "13/13 [==============================] - 1s 58ms/step - loss: 0.0457 - mean_absolute_error: 0.1540 - val_loss: 0.0450 - val_mean_absolute_error: 0.1582\n",
            "Epoch 70/100\n",
            "13/13 [==============================] - 1s 60ms/step - loss: 0.0455 - mean_absolute_error: 0.1534 - val_loss: 0.0448 - val_mean_absolute_error: 0.1573\n",
            "Epoch 71/100\n",
            "13/13 [==============================] - 1s 52ms/step - loss: 0.0459 - mean_absolute_error: 0.1630 - val_loss: 0.0446 - val_mean_absolute_error: 0.1519\n",
            "Epoch 72/100\n",
            "13/13 [==============================] - 1s 51ms/step - loss: 0.0465 - mean_absolute_error: 0.1477 - val_loss: 0.0444 - val_mean_absolute_error: 0.1553\n",
            "Epoch 73/100\n",
            "13/13 [==============================] - 1s 49ms/step - loss: 0.0449 - mean_absolute_error: 0.1599 - val_loss: 0.0446 - val_mean_absolute_error: 0.1475\n",
            "Epoch 74/100\n",
            "13/13 [==============================] - 1s 53ms/step - loss: 0.0458 - mean_absolute_error: 0.1508 - val_loss: 0.0442 - val_mean_absolute_error: 0.1537\n",
            "Epoch 75/100\n",
            "13/13 [==============================] - 1s 58ms/step - loss: 0.0446 - mean_absolute_error: 0.1494 - val_loss: 0.0441 - val_mean_absolute_error: 0.1531\n",
            "Epoch 76/100\n",
            "13/13 [==============================] - 1s 47ms/step - loss: 0.0446 - mean_absolute_error: 0.1577 - val_loss: 0.0440 - val_mean_absolute_error: 0.1526\n",
            "Epoch 77/100\n",
            "13/13 [==============================] - 1s 52ms/step - loss: 0.0444 - mean_absolute_error: 0.1465 - val_loss: 0.0439 - val_mean_absolute_error: 0.1548\n",
            "Epoch 78/100\n",
            "13/13 [==============================] - 1s 52ms/step - loss: 0.0451 - mean_absolute_error: 0.1597 - val_loss: 0.0438 - val_mean_absolute_error: 0.1489\n",
            "Epoch 79/100\n",
            "13/13 [==============================] - 1s 41ms/step - loss: 0.0449 - mean_absolute_error: 0.1540 - val_loss: 0.0436 - val_mean_absolute_error: 0.1507\n",
            "Epoch 80/100\n",
            "13/13 [==============================] - 1s 42ms/step - loss: 0.0446 - mean_absolute_error: 0.1601 - val_loss: 0.0443 - val_mean_absolute_error: 0.1441\n",
            "Epoch 81/100\n",
            "13/13 [==============================] - 1s 42ms/step - loss: 0.0452 - mean_absolute_error: 0.1434 - val_loss: 0.0436 - val_mean_absolute_error: 0.1541\n",
            "Epoch 82/100\n",
            "13/13 [==============================] - 1s 41ms/step - loss: 0.0438 - mean_absolute_error: 0.1529 - val_loss: 0.0433 - val_mean_absolute_error: 0.1501\n",
            "Epoch 83/100\n",
            "13/13 [==============================] - 1s 42ms/step - loss: 0.0441 - mean_absolute_error: 0.1490 - val_loss: 0.0432 - val_mean_absolute_error: 0.1521\n",
            "Epoch 84/100\n",
            "13/13 [==============================] - 1s 41ms/step - loss: 0.0438 - mean_absolute_error: 0.1569 - val_loss: 0.0432 - val_mean_absolute_error: 0.1523\n",
            "Epoch 85/100\n",
            "13/13 [==============================] - 1s 41ms/step - loss: 0.0444 - mean_absolute_error: 0.1513 - val_loss: 0.0432 - val_mean_absolute_error: 0.1482\n",
            "Epoch 86/100\n",
            "13/13 [==============================] - 1s 41ms/step - loss: 0.0445 - mean_absolute_error: 0.1469 - val_loss: 0.0431 - val_mean_absolute_error: 0.1536\n",
            "Epoch 87/100\n",
            "13/13 [==============================] - 1s 41ms/step - loss: 0.0440 - mean_absolute_error: 0.1569 - val_loss: 0.0429 - val_mean_absolute_error: 0.1521\n",
            "Epoch 88/100\n",
            "13/13 [==============================] - 1s 41ms/step - loss: 0.0437 - mean_absolute_error: 0.1514 - val_loss: 0.0429 - val_mean_absolute_error: 0.1544\n",
            "Epoch 89/100\n",
            "13/13 [==============================] - 1s 42ms/step - loss: 0.0441 - mean_absolute_error: 0.1600 - val_loss: 0.0432 - val_mean_absolute_error: 0.1436\n",
            "Epoch 90/100\n",
            "13/13 [==============================] - 1s 41ms/step - loss: 0.0437 - mean_absolute_error: 0.1496 - val_loss: 0.0426 - val_mean_absolute_error: 0.1541\n",
            "Epoch 91/100\n",
            "13/13 [==============================] - 1s 42ms/step - loss: 0.0456 - mean_absolute_error: 0.1633 - val_loss: 0.0432 - val_mean_absolute_error: 0.1401\n",
            "Epoch 92/100\n",
            "13/13 [==============================] - 1s 41ms/step - loss: 0.0449 - mean_absolute_error: 0.1501 - val_loss: 0.0424 - val_mean_absolute_error: 0.1542\n",
            "Epoch 93/100\n",
            "13/13 [==============================] - 1s 42ms/step - loss: 0.0436 - mean_absolute_error: 0.1490 - val_loss: 0.0421 - val_mean_absolute_error: 0.1495\n",
            "Epoch 94/100\n",
            "13/13 [==============================] - 1s 41ms/step - loss: 0.0438 - mean_absolute_error: 0.1546 - val_loss: 0.0418 - val_mean_absolute_error: 0.1486\n",
            "Epoch 95/100\n",
            "13/13 [==============================] - 1s 41ms/step - loss: 0.0429 - mean_absolute_error: 0.1519 - val_loss: 0.0417 - val_mean_absolute_error: 0.1468\n",
            "Epoch 96/100\n",
            "13/13 [==============================] - 1s 41ms/step - loss: 0.0425 - mean_absolute_error: 0.1434 - val_loss: 0.0413 - val_mean_absolute_error: 0.1459\n",
            "Epoch 97/100\n",
            "13/13 [==============================] - 1s 42ms/step - loss: 0.0422 - mean_absolute_error: 0.1496 - val_loss: 0.0410 - val_mean_absolute_error: 0.1460\n",
            "Epoch 98/100\n",
            "13/13 [==============================] - 1s 42ms/step - loss: 0.0426 - mean_absolute_error: 0.1504 - val_loss: 0.0409 - val_mean_absolute_error: 0.1434\n",
            "Epoch 99/100\n",
            "13/13 [==============================] - 1s 41ms/step - loss: 0.0433 - mean_absolute_error: 0.1482 - val_loss: 0.0407 - val_mean_absolute_error: 0.1482\n",
            "Epoch 100/100\n",
            "13/13 [==============================] - 1s 42ms/step - loss: 0.0426 - mean_absolute_error: 0.1567 - val_loss: 0.0406 - val_mean_absolute_error: 0.1473\n"
          ]
        },
        {
          "output_type": "execute_result",
          "data": {
            "text/plain": [
              "<keras.callbacks.History at 0x7f8a3f4ad2d0>"
            ]
          },
          "metadata": {},
          "execution_count": 46
        }
      ]
    },
    {
      "cell_type": "markdown",
      "metadata": {
        "id": "H5aWIT43vX27"
      },
      "source": [
        "**MAE: This means the average difference between input and ouput for all  datapoints is 0.167. \n",
        "However the value is for the days here so the MAE here is pretty bad.\n",
        "\n",
        "\n",
        "**Data is trained for 100 epochs optimizer is adam and loss is mse. This seems to be an average model because mean absolute error is 0.18 and val mean absolute eroor is 0.17 so it indicates overfitting. Since this is a regression problem accuracy is not a good metric. MAE was chosen since the difference between training and testing should be less so we don't need to take the square root of the value.** \n",
        "\n",
        "**We will focus on hyperparameters if this model is good at prediction**"
      ]
    },
    {
      "cell_type": "code",
      "metadata": {
        "id": "d-5yfE6JRRqD"
      },
      "source": [
        "#TESTING THE MODEL\n",
        "open_testing_processed = test.iloc[:, 1:2].values"
      ],
      "execution_count": 47,
      "outputs": []
    },
    {
      "cell_type": "markdown",
      "metadata": {
        "id": "CHZUOE1uv2i9"
      },
      "source": [
        "**Test the model on test data**"
      ]
    },
    {
      "cell_type": "code",
      "metadata": {
        "id": "MKcZZryvKReB"
      },
      "source": [
        "#convert test data to right format\n",
        "open_total = pd.concat((train['Open'], test['Open']), axis=0)"
      ],
      "execution_count": 48,
      "outputs": []
    },
    {
      "cell_type": "markdown",
      "metadata": {
        "id": "gN7qc_6uv9ta"
      },
      "source": [
        "**Start predictions:\n",
        "Reshape, scale and then oredict the model**"
      ]
    },
    {
      "cell_type": "code",
      "metadata": {
        "id": "1zjnBY-HKWNN"
      },
      "source": [
        "test_inputs = open_total[len(open_total) - len(test) - 60:].values"
      ],
      "execution_count": 49,
      "outputs": []
    },
    {
      "cell_type": "code",
      "metadata": {
        "id": "6Ot9WW7PKZnE"
      },
      "source": [
        "#scaling data\n",
        "test_inputs = test_inputs.reshape(-1,1)\n",
        "test_inputs = scaler.transform(test_inputs)"
      ],
      "execution_count": 50,
      "outputs": []
    },
    {
      "cell_type": "code",
      "metadata": {
        "id": "xfBTp0XfKd_N"
      },
      "source": [
        "test_features = []\n",
        "for i in range(60, 151):\n",
        "    test_features.append(test_inputs[i-60:i, 0])"
      ],
      "execution_count": 51,
      "outputs": []
    },
    {
      "cell_type": "code",
      "metadata": {
        "id": "QwY1URr5KhEo"
      },
      "source": [
        "test_features = np.array(test_features)\n",
        "test_features.shape\n",
        "test_features = np.reshape(test_features, (test_features.shape[0], test_features.shape[1], 1))"
      ],
      "execution_count": 52,
      "outputs": []
    },
    {
      "cell_type": "code",
      "metadata": {
        "id": "K_Zthb6IKjuy"
      },
      "source": [
        "#make predictions\n",
        "predictions = model.predict(test_features)"
      ],
      "execution_count": 53,
      "outputs": []
    },
    {
      "cell_type": "code",
      "metadata": {
        "id": "Gn9GJRFoineD"
      },
      "source": [
        "predictions = scaler.inverse_transform(predictions)"
      ],
      "execution_count": 54,
      "outputs": []
    },
    {
      "cell_type": "markdown",
      "metadata": {
        "id": "PehVpGNAwc70"
      },
      "source": [
        "**Plot the prediction model for the number of test days and train days**"
      ]
    },
    {
      "cell_type": "code",
      "metadata": {
        "id": "cPa6q0vVKnX3",
        "colab": {
          "base_uri": "https://localhost:8080/",
          "height": 404
        },
        "outputId": "303d8d99-d70a-4d2b-88cf-7c28c885ab86"
      },
      "source": [
        "plt.figure(figsize=(10,6))\n",
        "plt.plot(open_testing_processed, color='pink', label='Actual Stock Price')\n",
        "plt.plot(predictions , color='yellow', label='Predicted Stock Price')\n",
        "plt.title('Actual Value vs Predicted')\n",
        "plt.xlabel('Date')\n",
        "plt.ylabel('Predicted Price')\n",
        "plt.legend()\n",
        "plt.show()\n"
      ],
      "execution_count": 55,
      "outputs": [
        {
          "output_type": "display_data",
          "data": {
            "text/plain": [
              "<Figure size 720x432 with 1 Axes>"
            ],
            "image/png": "[encoded data removed]"
          },
          "metadata": {
            "needs_background": "light"
          }
        }
      ]
    },
    {
      "cell_type": "markdown",
      "metadata": {
        "id": "QNz7cSfbwyby"
      },
      "source": [
        "**This wasn't a great result with one feature so let's try using more features and then train them on LSTM model**"
      ]
    },
    {
      "cell_type": "markdown",
      "metadata": {
        "id": "jlnOEFRAjjPM"
      },
      "source": [
        "**USING 5FEATURES :**\n",
        "\n",
        "\n",
        "**USING THE BEST 5 FEATURES FROM THE RESULT OF THE XGBOOST. ITS QUITE OBVIOUS THAT A SINGLE FEATURE WILL NOT WORK SO WE USE THE 6 FEATURES THAT\n",
        "COULD GENERATE THE BEST OUTCOME FROM XGBOOST**"
      ]
    },
    {
      "cell_type": "code",
      "metadata": {
        "id": "4sxE7ubqKuI6"
      },
      "source": [
        "dataset = hist_data[['Open', 'Close','High','Low']]"
      ],
      "execution_count": 58,
      "outputs": []
    },
    {
      "cell_type": "code",
      "metadata": {
        "id": "CMVCWkeJjrb5",
        "colab": {
          "base_uri": "https://localhost:8080/",
          "height": 206
        },
        "outputId": "eee260c5-7a1b-446a-c474-dd78406132df"
      },
      "source": [
        "dataset.head()"
      ],
      "execution_count": 59,
      "outputs": [
        {
          "output_type": "execute_result",
          "data": {
            "text/plain": [
              "       Open     Close      High       Low\n",
              "0  2.437500  1.958333  2.500000  1.927083\n",
              "1  1.968750  1.729167  1.979167  1.708333\n",
              "2  1.760417  1.708333  1.770833  1.625000\n",
              "3  1.729167  1.635417  1.750000  1.635417\n",
              "4  1.635417  1.427083  1.645833  1.375000"
            ],
            "text/html": [
              "\n",
              "  <div id=\"df-336332b8-69b8-4b2c-9278-b70ae9d21c02\">\n",
              "    <div class=\"colab-df-container\">\n",
              "      <div>\n",
              "<style scoped>\n",
              "    .dataframe tbody tr th:only-of-type {\n",
              "        vertical-align: middle;\n",
              "    }\n",
              "\n",
              "    .dataframe tbody tr th {\n",
              "        vertical-align: top;\n",
              "    }\n",
              "\n",
              "    .dataframe thead th {\n",
              "        text-align: right;\n",
              "    }\n",
              "</style>\n",
              "<table border=\"1\" class=\"dataframe\">\n",
              "  <thead>\n",
              "    <tr style=\"text-align: right;\">\n",
              "      <th></th>\n",
              "      <th>Open</th>\n",
              "      <th>Close</th>\n",
              "      <th>High</th>\n",
              "      <th>Low</th>\n",
              "    </tr>\n",
              "  </thead>\n",
              "  <tbody>\n",
              "    <tr>\n",
              "      <th>0</th>\n",
              "      <td>2.437500</td>\n",
              "      <td>1.958333</td>\n",
              "      <td>2.500000</td>\n",
              "      <td>1.927083</td>\n",
              "    </tr>\n",
              "    <tr>\n",
              "      <th>1</th>\n",
              "      <td>1.968750</td>\n",
              "      <td>1.729167</td>\n",
              "      <td>1.979167</td>\n",
              "      <td>1.708333</td>\n",
              "    </tr>\n",
              "    <tr>\n",
              "      <th>2</th>\n",
              "      <td>1.760417</td>\n",
              "      <td>1.708333</td>\n",
              "      <td>1.770833</td>\n",
              "      <td>1.625000</td>\n",
              "    </tr>\n",
              "    <tr>\n",
              "      <th>3</th>\n",
              "      <td>1.729167</td>\n",
              "      <td>1.635417</td>\n",
              "      <td>1.750000</td>\n",
              "      <td>1.635417</td>\n",
              "    </tr>\n",
              "    <tr>\n",
              "      <th>4</th>\n",
              "      <td>1.635417</td>\n",
              "      <td>1.427083</td>\n",
              "      <td>1.645833</td>\n",
              "      <td>1.375000</td>\n",
              "    </tr>\n",
              "  </tbody>\n",
              "</table>\n",
              "</div>\n",
              "      <button class=\"colab-df-convert\" onclick=\"convertToInteractive('df-336332b8-69b8-4b2c-9278-b70ae9d21c02')\"\n",
              "              title=\"Convert this dataframe to an interactive table.\"\n",
              "              style=\"display:none;\">\n",
              "        \n",
              "  <svg xmlns=\"http://www.w3.org/2000/svg\" height=\"24px\"viewBox=\"0 0 24 24\"\n",
              "       width=\"24px\">\n",
              "    <path d=\"M0 0h24v24H0V0z\" fill=\"none\"/>\n",
              "    <path d=\"M18.56 5.44l.94 2.06.94-2.06 2.06-.94-2.06-.94-.94-2.06-.94 2.06-2.06.94zm-11 1L8.5 8.5l.94-2.06 2.06-.94-2.06-.94L8.5 2.5l-.94 2.06-2.06.94zm10 10l.94 2.06.94-2.06 2.06-.94-2.06-.94-.94-2.06-.94 2.06-2.06.94z\"/><path d=\"M17.41 7.96l-1.37-1.37c-.4-.4-.92-.59-1.43-.59-.52 0-1.04.2-1.43.59L10.3 9.45l-7.72 7.72c-.78.78-.78 2.05 0 2.83L4 21.41c.39.39.9.59 1.41.59.51 0 1.02-.2 1.41-.59l7.78-7.78 2.81-2.81c.8-.78.8-2.07 0-2.86zM5.41 20L4 18.59l7.72-7.72 1.47 1.35L5.41 20z\"/>\n",
              "  </svg>\n",
              "      </button>\n",
              "      \n",
              "  <style>\n",
              "    .colab-df-container {\n",
              "      display:flex;\n",
              "      flex-wrap:wrap;\n",
              "      gap: 12px;\n",
              "    }\n",
              "\n",
              "    .colab-df-convert {\n",
              "      background-color: #E8F0FE;\n",
              "      border: none;\n",
              "      border-radius: 50%;\n",
              "      cursor: pointer;\n",
              "      display: none;\n",
              "      fill: #1967D2;\n",
              "      height: 32px;\n",
              "      padding: 0 0 0 0;\n",
              "      width: 32px;\n",
              "    }\n",
              "\n",
              "    .colab-df-convert:hover {\n",
              "      background-color: #E2EBFA;\n",
              "      box-shadow: 0px 1px 2px rgba(60, 64, 67, 0.3), 0px 1px 3px 1px rgba(60, 64, 67, 0.15);\n",
              "      fill: #174EA6;\n",
              "    }\n",
              "\n",
              "    [theme=dark] .colab-df-convert {\n",
              "      background-color: #3B4455;\n",
              "      fill: #D2E3FC;\n",
              "    }\n",
              "\n",
              "    [theme=dark] .colab-df-convert:hover {\n",
              "      background-color: #434B5C;\n",
              "      box-shadow: 0px 1px 3px 1px rgba(0, 0, 0, 0.15);\n",
              "      filter: drop-shadow(0px 1px 2px rgba(0, 0, 0, 0.3));\n",
              "      fill: #FFFFFF;\n",
              "    }\n",
              "  </style>\n",
              "\n",
              "      <script>\n",
              "        const buttonEl =\n",
              "          document.querySelector('#df-336332b8-69b8-4b2c-9278-b70ae9d21c02 button.colab-df-convert');\n",
              "        buttonEl.style.display =\n",
              "          google.colab.kernel.accessAllowed ? 'block' : 'none';\n",
              "\n",
              "        async function convertToInteractive(key) {\n",
              "          const element = document.querySelector('#df-336332b8-69b8-4b2c-9278-b70ae9d21c02');\n",
              "          const dataTable =\n",
              "            await google.colab.kernel.invokeFunction('convertToInteractive',\n",
              "                                                     [key], {});\n",
              "          if (!dataTable) return;\n",
              "\n",
              "          const docLinkHtml = 'Like what you see? Visit the ' +\n",
              "            '<a target=\"_blank\" href=https://colab.research.google.com/notebooks/data_table.ipynb>data table notebook</a>'\n",
              "            + ' to learn more about interactive tables.';\n",
              "          element.innerHTML = '';\n",
              "          dataTable['output_type'] = 'display_data';\n",
              "          await google.colab.output.renderOutput(dataTable, element);\n",
              "          const docLink = document.createElement('div');\n",
              "          docLink.innerHTML = docLinkHtml;\n",
              "          element.appendChild(docLink);\n",
              "        }\n",
              "      </script>\n",
              "    </div>\n",
              "  </div>\n",
              "  "
            ]
          },
          "metadata": {},
          "execution_count": 59
        }
      ]
    },
    {
      "cell_type": "code",
      "metadata": {
        "id": "IcdIP_gtw9DB"
      },
      "source": [
        "# FUNCTION TO CREATE 1D DATA INTO TIME SERIES DATASET\n",
        "def new_dataset(dataset, step_size):\n",
        "\tdata_X, data_Y = [], []\n",
        "\tfor i in range(len(dataset)-step_size-1):\n",
        "\t\ta = dataset[i:(i+step_size), 0]\n",
        "\t\tdata_X.append(a)\n",
        "\t\tdata_Y.append(dataset[i + step_size, 0])\n",
        "\treturn np.array(data_X), np.array(data_Y)"
      ],
      "execution_count": 60,
      "outputs": []
    },
    {
      "cell_type": "code",
      "metadata": {
        "id": "5ovu8nAJxFRb"
      },
      "source": [
        "# IMPORTING IMPORTANT LIBRARIES\n",
        "import pandas as pd\n",
        "import matplotlib.pyplot as plt\n",
        "import numpy as np \n",
        "import math\n",
        "from sklearn.preprocessing import MinMaxScaler\n",
        "from sklearn.metrics import mean_squared_error\n",
        "from keras.models import Sequential\n",
        "from keras.layers import Dense, Activation\n",
        "from keras.layers import LSTM\n"
      ],
      "execution_count": 61,
      "outputs": []
    },
    {
      "cell_type": "code",
      "metadata": {
        "id": "MR5ZH2cUxKpv"
      },
      "source": [
        "# FOR REPRODUCIBILITY\n",
        "np.random.seed(7)"
      ],
      "execution_count": 62,
      "outputs": []
    },
    {
      "cell_type": "code",
      "metadata": {
        "id": "HEBGkQJQxNrF"
      },
      "source": [
        "# IMPORTING DATASET \n",
        "dataset = dataset.reindex(index = dataset.index[::-1])"
      ],
      "execution_count": 63,
      "outputs": []
    },
    {
      "cell_type": "code",
      "metadata": {
        "id": "qjQJZJx-xQOY"
      },
      "source": [
        "# CREATING OWN INDEX FOR FLEXIBILITY\n",
        "obs = np.arange(1, len(dataset) + 1, 1)"
      ],
      "execution_count": 64,
      "outputs": []
    },
    {
      "cell_type": "code",
      "metadata": {
        "id": "LFjIZMzJxUFR"
      },
      "source": [
        "# TAKING DIFFERENT INDICATORS FOR PREDICTION\n",
        "OHLC_avg = dataset.mean(axis = 1)\n",
        "HLC_avg = dataset[['High', 'Low', 'Close']].mean(axis = 1)\n",
        "close_val = dataset[['Close']]"
      ],
      "execution_count": 65,
      "outputs": []
    },
    {
      "cell_type": "code",
      "metadata": {
        "id": "MduBu78PxXYX",
        "colab": {
          "base_uri": "https://localhost:8080/",
          "height": 244
        },
        "outputId": "4b5c6685-6bb8-4ce2-d19b-f708ab35a299"
      },
      "source": [
        "# PLOTTING All INDICATORS IN PLOT\n",
        "imp\n",
        "plt.plot(OHLC_avg, 'yellow', label = 'OHLC avg')\n",
        "plt.plot(close_val, 'pink', label = 'Closing price')\n",
        "plt.xlabel('Days')\n",
        "plt.ylabel('OHLC average')\n",
        "plt.show()\n"
      ],
      "execution_count": 1,
      "outputs": [
        {
          "output_type": "error",
          "ename": "NameError",
          "evalue": "ignored",
          "traceback": [
            "\u001b[0;31m---------------------------------------------------------------------------\u001b[0m",
            "\u001b[0;31mNameError\u001b[0m                                 Traceback (most recent call last)",
            "\u001b[0;32m<ipython-input-1-ff07d1f0e1d1>\u001b[0m in \u001b[0;36m<module>\u001b[0;34m()\u001b[0m\n\u001b[1;32m      1\u001b[0m \u001b[0;31m# PLOTTING All INDICATORS IN PLOT\u001b[0m\u001b[0;34m\u001b[0m\u001b[0;34m\u001b[0m\u001b[0;34m\u001b[0m\u001b[0m\n\u001b[0;32m----> 2\u001b[0;31m \u001b[0mplt\u001b[0m\u001b[0;34m.\u001b[0m\u001b[0mplot\u001b[0m\u001b[0;34m(\u001b[0m\u001b[0mOHLC_avg\u001b[0m\u001b[0;34m,\u001b[0m \u001b[0;34m'yellow'\u001b[0m\u001b[0;34m,\u001b[0m \u001b[0mlabel\u001b[0m \u001b[0;34m=\u001b[0m \u001b[0;34m'OHLC avg'\u001b[0m\u001b[0;34m)\u001b[0m\u001b[0;34m\u001b[0m\u001b[0;34m\u001b[0m\u001b[0m\n\u001b[0m\u001b[1;32m      3\u001b[0m \u001b[0mplt\u001b[0m\u001b[0;34m.\u001b[0m\u001b[0mplot\u001b[0m\u001b[0;34m(\u001b[0m\u001b[0mclose_val\u001b[0m\u001b[0;34m,\u001b[0m \u001b[0;34m'pink'\u001b[0m\u001b[0;34m,\u001b[0m \u001b[0mlabel\u001b[0m \u001b[0;34m=\u001b[0m \u001b[0;34m'Closing price'\u001b[0m\u001b[0;34m)\u001b[0m\u001b[0;34m\u001b[0m\u001b[0;34m\u001b[0m\u001b[0m\n\u001b[1;32m      4\u001b[0m \u001b[0mplt\u001b[0m\u001b[0;34m.\u001b[0m\u001b[0mxlabel\u001b[0m\u001b[0;34m(\u001b[0m\u001b[0;34m'Days'\u001b[0m\u001b[0;34m)\u001b[0m\u001b[0;34m\u001b[0m\u001b[0;34m\u001b[0m\u001b[0m\n\u001b[1;32m      5\u001b[0m \u001b[0mplt\u001b[0m\u001b[0;34m.\u001b[0m\u001b[0mylabel\u001b[0m\u001b[0;34m(\u001b[0m\u001b[0;34m'OHLC average'\u001b[0m\u001b[0;34m)\u001b[0m\u001b[0;34m\u001b[0m\u001b[0;34m\u001b[0m\u001b[0m\n",
            "\u001b[0;31mNameError\u001b[0m: name 'plt' is not defined"
          ]
        }
      ]
    },
    {
      "cell_type": "code",
      "metadata": {
        "id": "dvM1ej2vxfHQ",
        "colab": {
          "base_uri": "https://localhost:8080/",
          "height": 279
        },
        "outputId": "cc0dd666-006a-4836-c90f-40d3d32a5de5"
      },
      "source": [
        "plt.plot(HLC_avg, 'red', label = 'HLC avg')\n",
        "plt.xlabel('Days')\n",
        "plt.ylabel('HLC average')\n",
        "plt.show()\n"
      ],
      "execution_count": 67,
      "outputs": [
        {
          "output_type": "display_data",
          "data": {
            "text/plain": [
              "<Figure size 432x288 with 1 Axes>"
            ],
            "image/png": "[encoded data removed]"
          },
          "metadata": {
            "needs_background": "light"
          }
        }
      ]
    },
    {
      "cell_type": "code",
      "metadata": {
        "id": "yRwx0FA8ycRW",
        "colab": {
          "base_uri": "https://localhost:8080/",
          "height": 279
        },
        "outputId": "f737d903-1ea7-44f9-be75-eb75e166a866"
      },
      "source": [
        "plt.plot(close_val, 'blue', label = 'Closing price')\n",
        "plt.xlabel('Days')\n",
        "plt.ylabel('Closing Values')\n",
        "plt.show()"
      ],
      "execution_count": 68,
      "outputs": [
        {
          "output_type": "display_data",
          "data": {
            "text/plain": [
              "<Figure size 432x288 with 1 Axes>"
            ],
            "image/png": "[encoded data removed]"
          },
          "metadata": {
            "needs_background": "light"
          }
        }
      ]
    },
    {
      "cell_type": "code",
      "metadata": {
        "id": "z8Dx3owPynMb"
      },
      "source": [
        "# PREPARATION OF TIME SERIES DATASE\n",
        "OHLC_avg = np.reshape(OHLC_avg.values, (len(OHLC_avg),1)) \n",
        "scaler = MinMaxScaler(feature_range=(0, 1))\n",
        "OHLC_avg = scaler.fit_transform(OHLC_avg)"
      ],
      "execution_count": 69,
      "outputs": []
    },
    {
      "cell_type": "code",
      "metadata": {
        "id": "9HAD1oZozwym"
      },
      "source": [
        "# TRAIN-TEST SPLIT\n",
        "train_OHLC = int(len(OHLC_avg) * 0.75)\n",
        "test_OHLC = len(OHLC_avg) - train_OHLC\n",
        "train_OHLC, test_OHLC = OHLC_avg[0:train_OHLC,:], OHLC_avg[train_OHLC:len(OHLC_avg),:]"
      ],
      "execution_count": 70,
      "outputs": []
    },
    {
      "cell_type": "code",
      "metadata": {
        "id": "Yet5xNOoz0x-"
      },
      "source": [
        "# TIME-SERIES DATASET (FOR TIME T, VALUES FOR TIME T+1)\n",
        "trainX, trainY = new_dataset(train_OHLC, 1)\n",
        "testX, testY = new_dataset(test_OHLC, 1)"
      ],
      "execution_count": 71,
      "outputs": []
    },
    {
      "cell_type": "code",
      "metadata": {
        "id": "FHbI5KDKz4W7"
      },
      "source": [
        "# RESHAPING TRAIN AND TEST DATA\n",
        "trainX = np.reshape(trainX, (trainX.shape[0], 1, trainX.shape[1]))\n",
        "testX = np.reshape(testX, (testX.shape[0], 1, testX.shape[1]))\n",
        "step_size = 1\n"
      ],
      "execution_count": 72,
      "outputs": []
    },
    {
      "cell_type": "code",
      "metadata": {
        "id": "ycBSKqy9z78c"
      },
      "source": [
        "# LSTM MODEL\n",
        "model = Sequential()\n",
        "model.add(LSTM(32, input_shape=(1, step_size), return_sequences = True))\n",
        "model.add(LSTM(16))\n",
        "model.add(Dense(1))\n",
        "model.add(Activation('linear'))"
      ],
      "execution_count": 73,
      "outputs": []
    },
    {
      "cell_type": "code",
      "metadata": {
        "id": "eW5inyg0z_b1",
        "colab": {
          "base_uri": "https://localhost:8080/"
        },
        "outputId": "5b9daeef-9261-4ee3-ce26-c2c1f7a048a8"
      },
      "source": [
        "# MODEL COMPILING AND TRAINING\n",
        "model.compile(loss='mean_squared_error', optimizer='adagrad',metrics = ['mae']) # Try mae, adam, adagrad and compare!!!\n",
        "model.fit(trainX, trainY, epochs=10, batch_size=1, verbose=2)"
      ],
      "execution_count": 75,
      "outputs": [
        {
          "output_type": "stream",
          "name": "stdout",
          "text": [
            "Epoch 1/10\n",
            "4709/4709 - 28s - loss: 0.0407 - mae: 0.1616 - 28s/epoch - 6ms/step\n",
            "Epoch 2/10\n",
            "4709/4709 - 19s - loss: 0.0329 - mae: 0.1464 - 19s/epoch - 4ms/step\n",
            "Epoch 3/10\n",
            "4709/4709 - 19s - loss: 0.0263 - mae: 0.1319 - 19s/epoch - 4ms/step\n",
            "Epoch 4/10\n",
            "4709/4709 - 19s - loss: 0.0205 - mae: 0.1166 - 19s/epoch - 4ms/step\n",
            "Epoch 5/10\n",
            "4709/4709 - 19s - loss: 0.0156 - mae: 0.1018 - 19s/epoch - 4ms/step\n",
            "Epoch 6/10\n",
            "4709/4709 - 18s - loss: 0.0115 - mae: 0.0869 - 18s/epoch - 4ms/step\n",
            "Epoch 7/10\n",
            "4709/4709 - 19s - loss: 0.0082 - mae: 0.0737 - 19s/epoch - 4ms/step\n",
            "Epoch 8/10\n",
            "4709/4709 - 19s - loss: 0.0057 - mae: 0.0610 - 19s/epoch - 4ms/step\n",
            "Epoch 9/10\n",
            "4709/4709 - 19s - loss: 0.0038 - mae: 0.0497 - 19s/epoch - 4ms/step\n",
            "Epoch 10/10\n",
            "4709/4709 - 19s - loss: 0.0025 - mae: 0.0399 - 19s/epoch - 4ms/step\n"
          ]
        },
        {
          "output_type": "execute_result",
          "data": {
            "text/plain": [
              "<keras.callbacks.History at 0x7f8a133bdcd0>"
            ]
          },
          "metadata": {},
          "execution_count": 75
        }
      ]
    },
    {
      "cell_type": "code",
      "metadata": {
        "id": "1amjmgWGFICM",
        "colab": {
          "base_uri": "https://localhost:8080/"
        },
        "outputId": "a060058b-c901-47da-855a-e6eb603521c9"
      },
      "source": [
        "mae = model.evaluate(testX, testY, batch_size=16)\n",
        "print('Mean Absolute Error for Y:', mae)"
      ],
      "execution_count": 76,
      "outputs": [
        {
          "output_type": "stream",
          "name": "stdout",
          "text": [
            "99/99 [==============================] - 1s 4ms/step - loss: 0.0013 - mae: 0.0356\n",
            "Mean Absolute Error for Y: [0.0012720458908006549, 0.035644274204969406]\n"
          ]
        }
      ]
    },
    {
      "cell_type": "markdown",
      "metadata": {
        "id": "yT3NCySy0y7g"
      },
      "source": [
        "**The mean absolute error is lower than the past model with one feature. The errror is almost 0.0026. So the training model should be pretty close to testing model.**"
      ]
    },
    {
      "cell_type": "code",
      "metadata": {
        "id": "6uYIJzE_0DxZ"
      },
      "source": [
        "# PREDICTION\n",
        "trainPredict = model.predict(trainX)\n",
        "testPredict = model.predict(testX)"
      ],
      "execution_count": 77,
      "outputs": []
    },
    {
      "cell_type": "code",
      "metadata": {
        "id": "ROLKJGIl2J_e"
      },
      "source": [
        "# DE-NORMALIZING FOR PLOTTING\n",
        "trainPredict = scaler.inverse_transform(trainPredict)\n",
        "trainY = scaler.inverse_transform([trainY])\n",
        "testPredict = scaler.inverse_transform(testPredict)\n",
        "testY = scaler.inverse_transform([testY])"
      ],
      "execution_count": 78,
      "outputs": []
    },
    {
      "cell_type": "code",
      "metadata": {
        "id": "R-s7kUbd2KNc",
        "colab": {
          "base_uri": "https://localhost:8080/"
        },
        "outputId": "26545329-c8e9-4018-e307-8530e9068ad8"
      },
      "source": [
        "# TRAINING rmse\n",
        "trainScore = math.sqrt(mean_squared_error(trainY[0], trainPredict[:,0]))\n",
        "print('Train : %.2f' % (trainScore))"
      ],
      "execution_count": 79,
      "outputs": [
        {
          "output_type": "stream",
          "name": "stdout",
          "text": [
            "Train : 166.88\n"
          ]
        }
      ]
    },
    {
      "cell_type": "code",
      "metadata": {
        "id": "PwM4dL-n2Sfr",
        "colab": {
          "base_uri": "https://localhost:8080/"
        },
        "outputId": "47486965-64e3-4103-e013-2c6dcd646f1a"
      },
      "source": [
        "# TEST RMSE\n",
        "testScore = math.sqrt(mean_squared_error(testY[0], testPredict[:,0]))\n",
        "print('Test RMSE: %.2f' % (testScore))"
      ],
      "execution_count": 80,
      "outputs": [
        {
          "output_type": "stream",
          "name": "stdout",
          "text": [
            "Test RMSE: 132.95\n"
          ]
        }
      ]
    },
    {
      "cell_type": "code",
      "metadata": {
        "id": "DwSzCAOg2Sui"
      },
      "source": [
        "# CREATING SIMILAR DATASET TO PLOT TRAINING PREDICTIONS\n",
        "trainPredictPlot = np.empty_like(OHLC_avg)\n",
        "trainPredictPlot[:, :] = np.nan\n",
        "trainPredictPlot[step_size:len(trainPredict)+step_size, :] = trainPredict"
      ],
      "execution_count": 81,
      "outputs": []
    },
    {
      "cell_type": "code",
      "metadata": {
        "id": "JNZkZbvS2S8A"
      },
      "source": [
        "# CREATING SIMILAR DATASSET TO PLOT TEST PREDICTIONS\n",
        "testPredictPlot = np.empty_like(OHLC_avg)\n",
        "testPredictPlot[:, :] = np.nan\n",
        "testPredictPlot[len(trainPredict)+(step_size*2)+1:len(OHLC_avg)-1, :] = testPredict"
      ],
      "execution_count": 82,
      "outputs": []
    },
    {
      "cell_type": "code",
      "metadata": {
        "id": "uMlLzjbO2KVv",
        "colab": {
          "base_uri": "https://localhost:8080/",
          "height": 279
        },
        "outputId": "08b92147-42dd-4559-d683-5353ed2df78f"
      },
      "source": [
        "# PLOT OF MAIN OHLC VALUES, TRAIN PREDICTIONS AND TEST PREDICTIONS\n",
        "plt.plot(trainPredictPlot, 'r', label = 'training set')\n",
        "plt.plot(testPredictPlot, 'b', label = 'predicted stock price/test set')\n",
        "plt.legend(loc = 'upper right')\n",
        "plt.xlabel('Time in Days')\n",
        "plt.ylabel('Trend of training and prediction data')\n",
        "plt.show()\n"
      ],
      "execution_count": 83,
      "outputs": [
        {
          "output_type": "display_data",
          "data": {
            "text/plain": [
              "<Figure size 432x288 with 1 Axes>"
            ],
            "image/png": "[encoded data removed]"
          },
          "metadata": {
            "needs_background": "light"
          }
        }
      ]
    },
    {
      "cell_type": "markdown",
      "metadata": {
        "id": "zHx-W08B2wps"
      },
      "source": [
        "**We trained our data for the first 1700 or so days and then tested for the rest. The prediction plot has kept up with the pattern how ever not to my satisfaction.**"
      ]
    },
    {
      "cell_type": "code",
      "metadata": {
        "id": "C5SQ_pi82KS5",
        "colab": {
          "base_uri": "https://localhost:8080/"
        },
        "outputId": "f8d75cdf-10c2-45e7-aa3c-9ece43a3e85d"
      },
      "source": [
        "# PREDICT FUTURE VALUES\n",
        "last_val = testPredict[-1]\n",
        "last_val_scaled = last_val/last_val\n",
        "next_val = model.predict(np.reshape(last_val_scaled, (1,1,1)))\n",
        "print(\"Last Day Value:\", np.asscalar(last_val))\n",
        "print(\"Next Day Value:\", np.asscalar(last_val*next_val))\n",
        "# print np.append(last_val, next_val)\n"
      ],
      "execution_count": 84,
      "outputs": [
        {
          "output_type": "stream",
          "name": "stdout",
          "text": [
            "Last Day Value: 139.40843200683594\n",
            "Next Day Value: 119.3088150024414\n"
          ]
        },
        {
          "output_type": "stream",
          "name": "stderr",
          "text": [
            "/usr/local/lib/python3.7/dist-packages/ipykernel_launcher.py:5: DeprecationWarning: np.asscalar(a) is deprecated since NumPy v1.16, use a.item() instead\n",
            "  \"\"\"\n",
            "/usr/local/lib/python3.7/dist-packages/ipykernel_launcher.py:6: DeprecationWarning: np.asscalar(a) is deprecated since NumPy v1.16, use a.item() instead\n",
            "  \n"
          ]
        }
      ]
    }
  ]
}